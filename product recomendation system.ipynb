{
 "cells": [
  {
   "cell_type": "code",
   "execution_count": 1,
   "id": "6f454fca",
   "metadata": {},
   "outputs": [],
   "source": [
    "##changing the working dierc \n",
    "import os\n",
    "os.chdir('P:\\SAMPLE DATA')"
   ]
  },
  {
   "cell_type": "code",
   "execution_count": 2,
   "id": "98135f4d",
   "metadata": {},
   "outputs": [],
   "source": [
    "# Importing libraries\n",
    "\n",
    "from sklearn.feature_extraction.text import TfidfVectorizer, CountVectorizer\n",
    "from sklearn.neighbors import NearestNeighbors\n",
    "from sklearn.cluster import KMeans\n",
    "from sklearn.metrics import adjusted_rand_score"
   ]
  },
  {
   "cell_type": "code",
   "execution_count": 3,
   "id": "bd14c2f5",
   "metadata": {},
   "outputs": [],
   "source": [
    "import pandas as pd\n",
    "import numpy as np\n",
    "import matplotlib.pyplot as plt"
   ]
  },
  {
   "cell_type": "code",
   "execution_count": 4,
   "id": "54d27a00",
   "metadata": {
    "scrolled": true
   },
   "outputs": [],
   "source": [
    "df=pd.read_excel('Book.xlsx')"
   ]
  },
  {
   "cell_type": "code",
   "execution_count": 5,
   "id": "b304d702",
   "metadata": {
    "scrolled": true
   },
   "outputs": [
    {
     "data": {
      "text/html": [
       "<div>\n",
       "<style scoped>\n",
       "    .dataframe tbody tr th:only-of-type {\n",
       "        vertical-align: middle;\n",
       "    }\n",
       "\n",
       "    .dataframe tbody tr th {\n",
       "        vertical-align: top;\n",
       "    }\n",
       "\n",
       "    .dataframe thead th {\n",
       "        text-align: right;\n",
       "    }\n",
       "</style>\n",
       "<table border=\"1\" class=\"dataframe\">\n",
       "  <thead>\n",
       "    <tr style=\"text-align: right;\">\n",
       "      <th></th>\n",
       "      <th>Description</th>\n",
       "      <th>Description.1</th>\n",
       "    </tr>\n",
       "  </thead>\n",
       "  <tbody>\n",
       "    <tr>\n",
       "      <th>0</th>\n",
       "      <td>Miscellaneous Fuel</td>\n",
       "      <td>Miscellaneous Fuel</td>\n",
       "    </tr>\n",
       "    <tr>\n",
       "      <th>1</th>\n",
       "      <td>Building Supplies</td>\n",
       "      <td>Building Supplies</td>\n",
       "    </tr>\n",
       "    <tr>\n",
       "      <th>2</th>\n",
       "      <td>Fil Tell Tail Aerosol 500ml</td>\n",
       "      <td>Fil Tell Tail Aerosol 500ml</td>\n",
       "    </tr>\n",
       "    <tr>\n",
       "      <th>3</th>\n",
       "      <td>FIL TELL TAIL AEROSOL 500 M BLUE</td>\n",
       "      <td>FIL TELL TAIL AEROSOL 500 M BLUE</td>\n",
       "    </tr>\n",
       "    <tr>\n",
       "      <th>4</th>\n",
       "      <td>FIL TELL TAIL AEROSOL 500M GREEN</td>\n",
       "      <td>FIL TELL TAIL AEROSOL 500M GREEN</td>\n",
       "    </tr>\n",
       "  </tbody>\n",
       "</table>\n",
       "</div>"
      ],
      "text/plain": [
       "                        Description                     Description.1\n",
       "0                Miscellaneous Fuel                Miscellaneous Fuel\n",
       "1                 Building Supplies                 Building Supplies\n",
       "2       Fil Tell Tail Aerosol 500ml       Fil Tell Tail Aerosol 500ml\n",
       "3  FIL TELL TAIL AEROSOL 500 M BLUE  FIL TELL TAIL AEROSOL 500 M BLUE\n",
       "4  FIL TELL TAIL AEROSOL 500M GREEN  FIL TELL TAIL AEROSOL 500M GREEN"
      ]
     },
     "execution_count": 5,
     "metadata": {},
     "output_type": "execute_result"
    }
   ],
   "source": [
    "df.head()"
   ]
  },
  {
   "cell_type": "code",
   "execution_count": 6,
   "id": "e0148ff0",
   "metadata": {},
   "outputs": [],
   "source": [
    "df.drop('Description.1',axis=1,inplace=True)"
   ]
  },
  {
   "cell_type": "code",
   "execution_count": 7,
   "id": "32ed9261",
   "metadata": {},
   "outputs": [
    {
     "data": {
      "text/plain": [
       "Description    0\n",
       "dtype: int64"
      ]
     },
     "execution_count": 7,
     "metadata": {},
     "output_type": "execute_result"
    }
   ],
   "source": [
    "df.isnull().sum()"
   ]
  },
  {
   "cell_type": "code",
   "execution_count": 8,
   "id": "f879f394",
   "metadata": {},
   "outputs": [
    {
     "data": {
      "text/plain": [
       "(1000, 1)"
      ]
     },
     "execution_count": 8,
     "metadata": {},
     "output_type": "execute_result"
    }
   ],
   "source": [
    "df.shape"
   ]
  },
  {
   "cell_type": "code",
   "execution_count": 9,
   "id": "89e6f79f",
   "metadata": {},
   "outputs": [
    {
     "data": {
      "text/plain": [
       "<1000x1052 sparse matrix of type '<class 'numpy.float64'>'\n",
       "\twith 3832 stored elements in Compressed Sparse Row format>"
      ]
     },
     "execution_count": 9,
     "metadata": {},
     "output_type": "execute_result"
    }
   ],
   "source": [
    "vectorizer = TfidfVectorizer(stop_words='english')\n",
    "X1 = vectorizer.fit_transform(df[\"Description\"])\n",
    "X1"
   ]
  },
  {
   "cell_type": "code",
   "execution_count": 10,
   "id": "f168575b",
   "metadata": {},
   "outputs": [
    {
     "data": {
      "image/png": "[encoded data removed]",
      "text/plain": [
       "<Figure size 432x288 with 1 Axes>"
      ]
     },
     "metadata": {
      "needs_background": "light"
     },
     "output_type": "display_data"
    }
   ],
   "source": [
    "# Fitting K-Means to the dataset\n",
    "\n",
    "X=X1\n",
    "\n",
    "kmeans = KMeans(n_clusters = 10, init = 'k-means++')\n",
    "y_kmeans = kmeans.fit_predict(X)\n",
    "plt.plot(y_kmeans, \".\")\n",
    "plt.show()"
   ]
  },
  {
   "cell_type": "code",
   "execution_count": 11,
   "id": "605f7001",
   "metadata": {},
   "outputs": [],
   "source": [
    "def print_cluster(i):\n",
    "    print(\"Cluster %d:\" % i),\n",
    "    for ind in order_centroids[i, :10]:\n",
    "        print(' %s' % terms[ind]),\n",
    "    print"
   ]
  },
  {
   "cell_type": "code",
   "execution_count": 12,
   "id": "50a8c2b4",
   "metadata": {},
   "outputs": [
    {
     "name": "stdout",
     "output_type": "stream",
     "text": [
      "Top terms per cluster:\n",
      "Cluster 0:\n",
      " rental\n",
      " industrial\n",
      " incl\n",
      " gas\n",
      " bulk\n",
      " boss\n",
      " bottles\n",
      " bowl\n",
      " box\n",
      " breathable\n",
      "Cluster 1:\n",
      " building\n",
      " supplies\n",
      " zinc\n",
      " bolus\n",
      " bulbs\n",
      " buildings\n",
      " bucket\n",
      " bs5503\n",
      " brush\n",
      " bright\n",
      "Cluster 2:\n",
      " machinery\n",
      " vehicle\n",
      " parts\n",
      " tools\n",
      " spares\n",
      " hardware\n",
      " valve\n",
      " tyres\n",
      " equipment\n",
      " livestock\n",
      "Cluster 3:\n",
      " lubricants\n",
      " oils\n",
      " grease\n",
      " zinc\n",
      " breathable\n",
      " boss\n",
      " bottles\n",
      " bowl\n",
      " box\n",
      " bright\n",
      "Cluster 4:\n",
      " kerosene\n",
      " regular\n",
      " box\n",
      " bolus\n",
      " bosch\n",
      " boss\n",
      " bottles\n",
      " bowl\n",
      " zinc\n",
      " boilers\n",
      "Cluster 5:\n",
      " products\n",
      " animal\n",
      " health\n",
      " delivery\n",
      " charge\n",
      " livestock\n",
      " po\n",
      " bedding\n",
      " premadex\n",
      " 5ltrs\n",
      "Cluster 6:\n",
      " box\n",
      " steel\n",
      " section\n",
      " 50\n",
      " 40\n",
      " hollow\n",
      " 10mm\n",
      " 3mm\n",
      " knife\n",
      " angle\n",
      "Cluster 7:\n",
      " batteries\n",
      " leisure\n",
      " 85amp\n",
      " volt\n",
      " 12\n",
      " bottles\n",
      " bowl\n",
      " box\n",
      " breathable\n",
      " bright\n",
      "Cluster 8:\n",
      " tail\n",
      " tape\n",
      " aerosol\n",
      " tell\n",
      " fil\n",
      " ptfe\n",
      " blue\n",
      " green\n",
      " orange\n",
      " yellow\n",
      "Cluster 9:\n",
      " treated\n",
      " sawn\n",
      " 24\n",
      " 80m\n",
      " c16\n",
      " kd\n",
      " batten\n",
      " ex\n",
      " 47\n",
      " reg\n"
     ]
    }
   ],
   "source": [
    "# # Optimal clusters is \n",
    "\n",
    "true_k = 10\n",
    "\n",
    "model = KMeans(n_clusters=true_k, init='k-means++', max_iter=100, n_init=1)\n",
    "model.fit(X1)\n",
    "\n",
    "print(\"Top terms per cluster:\")\n",
    "order_centroids = model.cluster_centers_.argsort()[:, ::-1]\n",
    "terms = vectorizer.get_feature_names()\n",
    "for i in range(true_k):\n",
    "    print_cluster(i)"
   ]
  },
  {
   "cell_type": "code",
   "execution_count": null,
   "id": "fcf171c4",
   "metadata": {},
   "outputs": [],
   "source": []
  },
  {
   "cell_type": "code",
   "execution_count": null,
   "id": "eed38738",
   "metadata": {},
   "outputs": [],
   "source": []
  },
  {
   "cell_type": "code",
   "execution_count": 13,
   "id": "fd94f3c9",
   "metadata": {},
   "outputs": [],
   "source": [
    "def show_recommendations(product):\n",
    "    #print(\"Cluster ID:\")\n",
    "    Y = vectorizer.transform([product])\n",
    "    prediction = model.predict(Y)\n",
    "    #print(prediction)\n",
    "    print_cluster(prediction[0])"
   ]
  },
  {
   "cell_type": "code",
   "execution_count": 21,
   "id": "e9c95124",
   "metadata": {},
   "outputs": [
    {
     "name": "stdout",
     "output_type": "stream",
     "text": [
      "Cluster 9:\n",
      " treated\n",
      " sawn\n",
      " 24\n",
      " 80m\n",
      " c16\n",
      " kd\n",
      " batten\n",
      " ex\n",
      " 47\n",
      " reg\n"
     ]
    }
   ],
   "source": [
    "show_recommendations(\"80m\")"
   ]
  },
  {
   "cell_type": "code",
   "execution_count": null,
   "id": "cd1a64c2",
   "metadata": {},
   "outputs": [],
   "source": []
  }
 ],
 "metadata": {
  "kernelspec": {
   "display_name": "Python 3 (ipykernel)",
   "language": "python",
   "name": "python3"
  },
  "language_info": {
   "codemirror_mode": {
    "name": "ipython",
    "version": 3
   },
   "file_extension": ".py",
   "mimetype": "text/x-python",
   "name": "python",
   "nbconvert_exporter": "python",
   "pygments_lexer": "ipython3",
   "version": "3.9.7"
  }
 },
 "nbformat": 4,
 "nbformat_minor": 5
}
