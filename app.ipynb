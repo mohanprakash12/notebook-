{
 "cells": [
  {
   "cell_type": "code",
   "execution_count": null,
   "id": "fa6934f0",
   "metadata": {},
   "outputs": [],
   "source": [
    "#!/usr/bin/env python\n",
    "# coding: utf-8\n",
    "\n",
    "import numpy as np\n",
    "import streamlit as st\n",
    "import pandas as pd\n",
    "import matplotlib.pyplot as plt\n",
    "import pickle\n",
    "import base64\n",
    "from sklearn.preprocessing import StandardScaler\n",
    "\n",
    "st.write('''# *Customer Payment Predictor*''')\n",
    "  \n",
    "uploaded_file = st.file_uploader(\"Upload a CSV file\", type=\"csv\")\n",
    "\n",
    "if uploaded_file:\n",
    "    from PIL import Image\n",
    "    image = Image.open('icone.png')\n",
    "  \n",
    "    input_df = pd.read_csv(uploaded_file)\n",
    "    st.write(\n",
    "    '''\n",
    "    ### Input Data ({} Customers)\n",
    "    '''.format(input_df.shape[0])\n",
    "    )\n",
    "    st.dataframe(input_df)\n",
    "    st.write('')\n",
    "    rfm = pickle.load( open( \"ran_forestry_mod.p\", \"rb\" ) )\n",
    "\n",
    "    X = input_df.drop(labels = ['CMemNo'], axis = 1)\n",
    "\n",
    "    threshold = .22\n",
    "    y_preds = rfm.predict(X)\n",
    "    predicted_proba = rfm.predict_proba(X)\n",
    "    y_preds = (predicted_proba [:,1] >= threshold).astype('int')\n",
    "    op_list = []\n",
    "    for idx, Failed in enumerate(y_preds):\n",
    "        if Failed == 0:\n",
    "            op_list.append(input_df.CMemNo.iloc[idx])\n",
    "    st.write('''### Number of Potentially Churning Customers Payment''')\n",
    "    st.write('''There are **{} customers** at risk of Payment Failure.'''.format(len(op_list)))\n",
    "\n",
    "    csv = pd.DataFrame(op_list).to_csv(index=False, header = False)\n",
    "    b64 = base64.b64encode(csv.encode()).decode()\n",
    "    st.write('''''')\n",
    "    st.write('''''')\n",
    "    st.write('''### **⬇️ Download At-Risk CMember Id's**''')\n",
    "    href = f'<a href=\"data:file/csv;base64,{b64}\" download=\"at_risk_customerids.csv\">Download csv file</a>'\n",
    "    st.write(href, unsafe_allow_html=True)\n",
    "\n",
    "\n",
    "# In[ ]:\n",
    "\n",
    "\n",
    "\n"
   ]
  }
 ],
 "metadata": {
  "kernelspec": {
   "display_name": "Python 3 (ipykernel)",
   "language": "python",
   "name": "python3"
  },
  "language_info": {
   "codemirror_mode": {
    "name": "ipython",
    "version": 3
   },
   "file_extension": ".py",
   "mimetype": "text/x-python",
   "name": "python",
   "nbconvert_exporter": "python",
   "pygments_lexer": "ipython3",
   "version": "3.9.7"
  }
 },
 "nbformat": 4,
 "nbformat_minor": 5
}
