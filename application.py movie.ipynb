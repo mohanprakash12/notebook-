{
 "cells": [
  {
   "cell_type": "code",
   "execution_count": null,
   "id": "f6381cbd",
   "metadata": {},
   "outputs": [
    {
     "name": "stdout",
     "output_type": "stream",
     "text": [
      " * Serving Flask app \"__main__\" (lazy loading)\n",
      " * Environment: production\n",
      "\u001b[31m   WARNING: This is a development server. Do not use it in a production deployment.\u001b[0m\n",
      "\u001b[2m   Use a production WSGI server instead.\u001b[0m\n",
      " * Debug mode: on\n"
     ]
    },
    {
     "name": "stderr",
     "output_type": "stream",
     "text": [
      " * Running on http://127.0.0.1:5000/ (Press CTRL+C to quit)\n"
     ]
    }
   ],
   "source": [
    "from flask import Flask,render_template,url_for,request\n",
    "import pandas as pd\n",
    "import pickle\n",
    "from sklearn.feature_extraction.text import CountVectorizer\n",
    "from sklearn.naive_bayes import MultinomialNB\n",
    "import pickle\n",
    "app = Flask(__name__)\n",
    "@app.route('/')\n",
    "def home():\n",
    "    return render_template('home.html')\n",
    "@app.route('/predict',methods=['POST'])\n",
    "def predict():\n",
    "    df= pd.read_csv(\"movie.csv\")\n",
    "    # Features and Labels\n",
    "    X = df['reviews.text']\n",
    "    y = df['vader_result']\n",
    "    \n",
    "    # Extract Feature With CountVectorizer\n",
    "    cv = CountVectorizer()\n",
    "    X = cv.fit_transform(X) \n",
    "    from sklearn.model_selection import train_test_split\n",
    "    Xtrain, Xtest, ytrain, ytest = train_test_split(X, y,\n",
    "                                  test_size=0.25, random_state=42)\n",
    "    #Naive Bayes Classifier\n",
    "    from sklearn.naive_bayes import MultinomialNB\n",
    "    clf = MultinomialNB()\n",
    "    clf.fit(Xtrain,ytrain)\n",
    "    clf.score(Xtest,ytest)\n",
    "    if request.method == 'POST':\n",
    "        message = request.form['message']\n",
    "        data = [message]\n",
    "        vect = cv.transform(data).toarray()\n",
    "        my_prediction = clf.predict(vect)\n",
    "    return render_template('result.html',prediction = my_prediction)\n",
    "if __name__ == '__main__':\n",
    "    app.run(debug=True, use_reloader=False)"
   ]
  },
  {
   "cell_type": "code",
   "execution_count": 4,
   "id": "64fd40c4",
   "metadata": {},
   "outputs": [],
   "source": [
    "##changing the working dierc \n",
    "import os\n",
    "os.chdir('P:\\materials\\MOVIE')"
   ]
  },
  {
   "cell_type": "code",
   "execution_count": null,
   "id": "761b26e5",
   "metadata": {},
   "outputs": [],
   "source": []
  }
 ],
 "metadata": {
  "kernelspec": {
   "display_name": "Python 3 (ipykernel)",
   "language": "python",
   "name": "python3"
  },
  "language_info": {
   "codemirror_mode": {
    "name": "ipython",
    "version": 3
   },
   "file_extension": ".py",
   "mimetype": "text/x-python",
   "name": "python",
   "nbconvert_exporter": "python",
   "pygments_lexer": "ipython3",
   "version": "3.9.7"
  }
 },
 "nbformat": 4,
 "nbformat_minor": 5
}
