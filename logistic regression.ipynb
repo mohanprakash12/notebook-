{
 "cells": [
  {
   "cell_type": "code",
   "execution_count": 1,
   "id": "44ab588f",
   "metadata": {},
   "outputs": [],
   "source": [
    "import os\n",
    "os.chdir('P:\\SAMPLE DATA')"
   ]
  },
  {
   "cell_type": "code",
   "execution_count": 2,
   "id": "3cde91b7",
   "metadata": {},
   "outputs": [],
   "source": [
    "import pandas as pd\n",
    "import plotly.express as px"
   ]
  },
  {
   "cell_type": "code",
   "execution_count": 33,
   "id": "48a5292b",
   "metadata": {},
   "outputs": [],
   "source": [
    "df=pd.read_excel('2016.xlsx')"
   ]
  },
  {
   "cell_type": "code",
   "execution_count": null,
   "id": "c540a815",
   "metadata": {},
   "outputs": [],
   "source": []
  },
  {
   "cell_type": "code",
   "execution_count": 34,
   "id": "897b7b99",
   "metadata": {},
   "outputs": [
    {
     "data": {
      "text/html": [
       "<div>\n",
       "<style scoped>\n",
       "    .dataframe tbody tr th:only-of-type {\n",
       "        vertical-align: middle;\n",
       "    }\n",
       "\n",
       "    .dataframe tbody tr th {\n",
       "        vertical-align: top;\n",
       "    }\n",
       "\n",
       "    .dataframe thead th {\n",
       "        text-align: right;\n",
       "    }\n",
       "</style>\n",
       "<table border=\"1\" class=\"dataframe\">\n",
       "  <thead>\n",
       "    <tr style=\"text-align: right;\">\n",
       "      <th></th>\n",
       "      <th>CMemNo</th>\n",
       "      <th>InvNet (SUM)</th>\n",
       "    </tr>\n",
       "  </thead>\n",
       "  <tbody>\n",
       "    <tr>\n",
       "      <th>CMemNo</th>\n",
       "      <td>1.000000</td>\n",
       "      <td>-0.018825</td>\n",
       "    </tr>\n",
       "    <tr>\n",
       "      <th>InvNet (SUM)</th>\n",
       "      <td>-0.018825</td>\n",
       "      <td>1.000000</td>\n",
       "    </tr>\n",
       "  </tbody>\n",
       "</table>\n",
       "</div>"
      ],
      "text/plain": [
       "                CMemNo  InvNet (SUM)\n",
       "CMemNo        1.000000     -0.018825\n",
       "InvNet (SUM) -0.018825      1.000000"
      ]
     },
     "execution_count": 34,
     "metadata": {},
     "output_type": "execute_result"
    }
   ],
   "source": [
    "df.corr()"
   ]
  },
  {
   "cell_type": "code",
   "execution_count": 35,
   "id": "fd7b320a",
   "metadata": {},
   "outputs": [
    {
     "data": {
      "text/html": [
       "<div>\n",
       "<style scoped>\n",
       "    .dataframe tbody tr th:only-of-type {\n",
       "        vertical-align: middle;\n",
       "    }\n",
       "\n",
       "    .dataframe tbody tr th {\n",
       "        vertical-align: top;\n",
       "    }\n",
       "\n",
       "    .dataframe thead th {\n",
       "        text-align: right;\n",
       "    }\n",
       "</style>\n",
       "<table border=\"1\" class=\"dataframe\">\n",
       "  <thead>\n",
       "    <tr style=\"text-align: right;\">\n",
       "      <th></th>\n",
       "      <th>CMemNo</th>\n",
       "      <th>Description</th>\n",
       "      <th>Failed</th>\n",
       "      <th>InvDate</th>\n",
       "      <th>InvPaymentDate</th>\n",
       "      <th>ProdCategory</th>\n",
       "      <th>ProdCode</th>\n",
       "      <th>ProductAreaName</th>\n",
       "      <th>SuppID</th>\n",
       "      <th>InvNet (SUM)</th>\n",
       "      <th>Member Type</th>\n",
       "      <th>Town</th>\n",
       "      <th>Member Join Date</th>\n",
       "    </tr>\n",
       "  </thead>\n",
       "  <tbody>\n",
       "    <tr>\n",
       "      <th>0</th>\n",
       "      <td>662914</td>\n",
       "      <td>Monthly Mobile Contract</td>\n",
       "      <td>NaN</td>\n",
       "      <td>2011-07-25</td>\n",
       "      <td>2016-07-26</td>\n",
       "      <td>Mobile</td>\n",
       "      <td>MS-MOB</td>\n",
       "      <td>Telecoms</td>\n",
       "      <td>O00001</td>\n",
       "      <td>-120.30</td>\n",
       "      <td>Agrevise - Full</td>\n",
       "      <td>Northampton</td>\n",
       "      <td>2008-05-08</td>\n",
       "    </tr>\n",
       "    <tr>\n",
       "      <th>1</th>\n",
       "      <td>662914</td>\n",
       "      <td>Monthly Mobile Contract</td>\n",
       "      <td>NaN</td>\n",
       "      <td>2011-10-25</td>\n",
       "      <td>2016-07-26</td>\n",
       "      <td>Mobile</td>\n",
       "      <td>MS-MOB</td>\n",
       "      <td>Telecoms</td>\n",
       "      <td>O00001</td>\n",
       "      <td>-73.37</td>\n",
       "      <td>Agrevise - Full</td>\n",
       "      <td>Northampton</td>\n",
       "      <td>2008-05-08</td>\n",
       "    </tr>\n",
       "    <tr>\n",
       "      <th>2</th>\n",
       "      <td>693482</td>\n",
       "      <td>Miscellaneous Items</td>\n",
       "      <td>NaN</td>\n",
       "      <td>2012-03-01</td>\n",
       "      <td>2017-01-26</td>\n",
       "      <td>General - Supplies</td>\n",
       "      <td>MS-MISC</td>\n",
       "      <td>General Supplies</td>\n",
       "      <td>W00052</td>\n",
       "      <td>-100.00</td>\n",
       "      <td>Full</td>\n",
       "      <td>King's Lynn</td>\n",
       "      <td>1997-03-20</td>\n",
       "    </tr>\n",
       "    <tr>\n",
       "      <th>3</th>\n",
       "      <td>663686</td>\n",
       "      <td>Miscellaneous Items</td>\n",
       "      <td>NaN</td>\n",
       "      <td>2012-09-11</td>\n",
       "      <td>2016-06-26</td>\n",
       "      <td>General - Supplies</td>\n",
       "      <td>MS-MISC</td>\n",
       "      <td>General Supplies</td>\n",
       "      <td>W00052</td>\n",
       "      <td>-100.00</td>\n",
       "      <td>2nd Account</td>\n",
       "      <td>Spalding</td>\n",
       "      <td>2011-06-08</td>\n",
       "    </tr>\n",
       "    <tr>\n",
       "      <th>4</th>\n",
       "      <td>671350</td>\n",
       "      <td>Miscellaneous Items</td>\n",
       "      <td>NaN</td>\n",
       "      <td>2012-10-19</td>\n",
       "      <td>2016-07-26</td>\n",
       "      <td>General - Supplies</td>\n",
       "      <td>MS-MISC</td>\n",
       "      <td>General Supplies</td>\n",
       "      <td>W00052</td>\n",
       "      <td>-100.00</td>\n",
       "      <td>Full</td>\n",
       "      <td>Norwich</td>\n",
       "      <td>1990-02-20</td>\n",
       "    </tr>\n",
       "  </tbody>\n",
       "</table>\n",
       "</div>"
      ],
      "text/plain": [
       "   CMemNo              Description Failed    InvDate InvPaymentDate  \\\n",
       "0  662914  Monthly Mobile Contract    NaN 2011-07-25     2016-07-26   \n",
       "1  662914  Monthly Mobile Contract    NaN 2011-10-25     2016-07-26   \n",
       "2  693482      Miscellaneous Items    NaN 2012-03-01     2017-01-26   \n",
       "3  663686      Miscellaneous Items    NaN 2012-09-11     2016-06-26   \n",
       "4  671350      Miscellaneous Items    NaN 2012-10-19     2016-07-26   \n",
       "\n",
       "         ProdCategory ProdCode   ProductAreaName  SuppID  InvNet (SUM)  \\\n",
       "0              Mobile   MS-MOB          Telecoms  O00001       -120.30   \n",
       "1              Mobile   MS-MOB          Telecoms  O00001        -73.37   \n",
       "2  General - Supplies  MS-MISC  General Supplies  W00052       -100.00   \n",
       "3  General - Supplies  MS-MISC  General Supplies  W00052       -100.00   \n",
       "4  General - Supplies  MS-MISC  General Supplies  W00052       -100.00   \n",
       "\n",
       "       Member Type         Town Member Join Date  \n",
       "0  Agrevise - Full  Northampton       2008-05-08  \n",
       "1  Agrevise - Full  Northampton       2008-05-08  \n",
       "2             Full  King's Lynn       1997-03-20  \n",
       "3      2nd Account     Spalding       2011-06-08  \n",
       "4             Full      Norwich       1990-02-20  "
      ]
     },
     "execution_count": 35,
     "metadata": {},
     "output_type": "execute_result"
    }
   ],
   "source": [
    "df.head()\n"
   ]
  },
  {
   "cell_type": "code",
   "execution_count": 36,
   "id": "a601107a",
   "metadata": {},
   "outputs": [
    {
     "data": {
      "text/plain": [
       "(591933, 13)"
      ]
     },
     "execution_count": 36,
     "metadata": {},
     "output_type": "execute_result"
    }
   ],
   "source": [
    "df.shape"
   ]
  },
  {
   "cell_type": "code",
   "execution_count": 37,
   "id": "af2c9252",
   "metadata": {},
   "outputs": [],
   "source": [
    "df1=df.sample(n=150000)"
   ]
  },
  {
   "cell_type": "code",
   "execution_count": 38,
   "id": "383f01af",
   "metadata": {
    "scrolled": false
   },
   "outputs": [
    {
     "data": {
      "text/html": [
       "<div>\n",
       "<style scoped>\n",
       "    .dataframe tbody tr th:only-of-type {\n",
       "        vertical-align: middle;\n",
       "    }\n",
       "\n",
       "    .dataframe tbody tr th {\n",
       "        vertical-align: top;\n",
       "    }\n",
       "\n",
       "    .dataframe thead th {\n",
       "        text-align: right;\n",
       "    }\n",
       "</style>\n",
       "<table border=\"1\" class=\"dataframe\">\n",
       "  <thead>\n",
       "    <tr style=\"text-align: right;\">\n",
       "      <th></th>\n",
       "      <th>CMemNo</th>\n",
       "      <th>Description</th>\n",
       "      <th>Failed</th>\n",
       "      <th>InvDate</th>\n",
       "      <th>InvPaymentDate</th>\n",
       "      <th>ProdCategory</th>\n",
       "      <th>ProdCode</th>\n",
       "      <th>ProductAreaName</th>\n",
       "      <th>SuppID</th>\n",
       "      <th>InvNet (SUM)</th>\n",
       "      <th>Member Type</th>\n",
       "      <th>Town</th>\n",
       "      <th>Member Join Date</th>\n",
       "    </tr>\n",
       "  </thead>\n",
       "  <tbody>\n",
       "    <tr>\n",
       "      <th>220069</th>\n",
       "      <td>615006</td>\n",
       "      <td>Monthly Mobile Contract</td>\n",
       "      <td>NaN</td>\n",
       "      <td>2016-06-15</td>\n",
       "      <td>2016-07-26</td>\n",
       "      <td>Mobile</td>\n",
       "      <td>MS-MOB</td>\n",
       "      <td>Telecoms</td>\n",
       "      <td>V00027</td>\n",
       "      <td>60.27</td>\n",
       "      <td>Samco and Shrim</td>\n",
       "      <td>Dunmow</td>\n",
       "      <td>2005-07-11</td>\n",
       "    </tr>\n",
       "    <tr>\n",
       "      <th>158236</th>\n",
       "      <td>694676</td>\n",
       "      <td>RhiNo DS 2kg</td>\n",
       "      <td>NaN</td>\n",
       "      <td>2016-05-11</td>\n",
       "      <td>2016-06-26</td>\n",
       "      <td>Agrochemicals</td>\n",
       "      <td>CH-RHINDS2</td>\n",
       "      <td>Crop Protection</td>\n",
       "      <td>A00301</td>\n",
       "      <td>-240.00</td>\n",
       "      <td>Full</td>\n",
       "      <td>Newark</td>\n",
       "      <td>2015-06-02</td>\n",
       "    </tr>\n",
       "    <tr>\n",
       "      <th>438543</th>\n",
       "      <td>662285</td>\n",
       "      <td>Pincer 5lt</td>\n",
       "      <td>NaN</td>\n",
       "      <td>2016-10-25</td>\n",
       "      <td>2016-11-30</td>\n",
       "      <td>Agrochemicals</td>\n",
       "      <td>CH-PINCER5</td>\n",
       "      <td>Crop Protection</td>\n",
       "      <td>A00038</td>\n",
       "      <td>568.00</td>\n",
       "      <td>2nd Account</td>\n",
       "      <td>Norwich</td>\n",
       "      <td>2006-03-07</td>\n",
       "    </tr>\n",
       "    <tr>\n",
       "      <th>129303</th>\n",
       "      <td>693180</td>\n",
       "      <td>Animal Health Products</td>\n",
       "      <td>NaN</td>\n",
       "      <td>2016-04-28</td>\n",
       "      <td>2016-05-26</td>\n",
       "      <td>Vet fees &amp; Animal Health / Semen</td>\n",
       "      <td>SU-ANHEAL</td>\n",
       "      <td>Feed &amp; Animal Health &amp; Vets Fees</td>\n",
       "      <td>G00012</td>\n",
       "      <td>19.20</td>\n",
       "      <td>Full</td>\n",
       "      <td>East Barsham</td>\n",
       "      <td>1986-04-01</td>\n",
       "    </tr>\n",
       "    <tr>\n",
       "      <th>90797</th>\n",
       "      <td>640060</td>\n",
       "      <td>optE-Man DF 10kg</td>\n",
       "      <td>NaN</td>\n",
       "      <td>2016-04-01</td>\n",
       "      <td>2016-05-26</td>\n",
       "      <td>Agrochemicals</td>\n",
       "      <td>CH-OPTE10K</td>\n",
       "      <td>Crop Protection</td>\n",
       "      <td>A00301</td>\n",
       "      <td>286.20</td>\n",
       "      <td>Full</td>\n",
       "      <td>Lode</td>\n",
       "      <td>2006-07-01</td>\n",
       "    </tr>\n",
       "  </tbody>\n",
       "</table>\n",
       "</div>"
      ],
      "text/plain": [
       "        CMemNo              Description Failed    InvDate InvPaymentDate  \\\n",
       "220069  615006  Monthly Mobile Contract    NaN 2016-06-15     2016-07-26   \n",
       "158236  694676             RhiNo DS 2kg    NaN 2016-05-11     2016-06-26   \n",
       "438543  662285               Pincer 5lt    NaN 2016-10-25     2016-11-30   \n",
       "129303  693180   Animal Health Products    NaN 2016-04-28     2016-05-26   \n",
       "90797   640060         optE-Man DF 10kg    NaN 2016-04-01     2016-05-26   \n",
       "\n",
       "                            ProdCategory    ProdCode  \\\n",
       "220069                            Mobile      MS-MOB   \n",
       "158236                     Agrochemicals  CH-RHINDS2   \n",
       "438543                     Agrochemicals  CH-PINCER5   \n",
       "129303  Vet fees & Animal Health / Semen   SU-ANHEAL   \n",
       "90797                      Agrochemicals  CH-OPTE10K   \n",
       "\n",
       "                         ProductAreaName  SuppID  InvNet (SUM)  \\\n",
       "220069                          Telecoms  V00027         60.27   \n",
       "158236                   Crop Protection  A00301       -240.00   \n",
       "438543                   Crop Protection  A00038        568.00   \n",
       "129303  Feed & Animal Health & Vets Fees  G00012         19.20   \n",
       "90797                    Crop Protection  A00301        286.20   \n",
       "\n",
       "            Member Type          Town Member Join Date  \n",
       "220069  Samco and Shrim        Dunmow       2005-07-11  \n",
       "158236             Full        Newark       2015-06-02  \n",
       "438543      2nd Account       Norwich       2006-03-07  \n",
       "129303             Full  East Barsham       1986-04-01  \n",
       "90797              Full          Lode       2006-07-01  "
      ]
     },
     "execution_count": 38,
     "metadata": {},
     "output_type": "execute_result"
    }
   ],
   "source": [
    "df1.head()"
   ]
  },
  {
   "cell_type": "code",
   "execution_count": null,
   "id": "37f55d2c",
   "metadata": {},
   "outputs": [],
   "source": []
  },
  {
   "cell_type": "code",
   "execution_count": 39,
   "id": "23adcc3f",
   "metadata": {},
   "outputs": [],
   "source": [
    "dc=df1.copy()"
   ]
  },
  {
   "cell_type": "code",
   "execution_count": 40,
   "id": "5639557f",
   "metadata": {
    "scrolled": false
   },
   "outputs": [
    {
     "data": {
      "text/html": [
       "<div>\n",
       "<style scoped>\n",
       "    .dataframe tbody tr th:only-of-type {\n",
       "        vertical-align: middle;\n",
       "    }\n",
       "\n",
       "    .dataframe tbody tr th {\n",
       "        vertical-align: top;\n",
       "    }\n",
       "\n",
       "    .dataframe thead th {\n",
       "        text-align: right;\n",
       "    }\n",
       "</style>\n",
       "<table border=\"1\" class=\"dataframe\">\n",
       "  <thead>\n",
       "    <tr style=\"text-align: right;\">\n",
       "      <th></th>\n",
       "      <th>CMemNo</th>\n",
       "      <th>Description</th>\n",
       "      <th>Failed</th>\n",
       "      <th>InvDate</th>\n",
       "      <th>InvPaymentDate</th>\n",
       "      <th>ProdCategory</th>\n",
       "      <th>ProdCode</th>\n",
       "      <th>ProductAreaName</th>\n",
       "      <th>SuppID</th>\n",
       "      <th>InvNet (SUM)</th>\n",
       "      <th>Member Type</th>\n",
       "      <th>Town</th>\n",
       "      <th>Member Join Date</th>\n",
       "    </tr>\n",
       "  </thead>\n",
       "  <tbody>\n",
       "    <tr>\n",
       "      <th>220069</th>\n",
       "      <td>615006</td>\n",
       "      <td>Monthly Mobile Contract</td>\n",
       "      <td>NaN</td>\n",
       "      <td>2016-06-15</td>\n",
       "      <td>2016-07-26</td>\n",
       "      <td>Mobile</td>\n",
       "      <td>MS-MOB</td>\n",
       "      <td>Telecoms</td>\n",
       "      <td>V00027</td>\n",
       "      <td>60.27</td>\n",
       "      <td>Samco and Shrim</td>\n",
       "      <td>Dunmow</td>\n",
       "      <td>2005-07-11</td>\n",
       "    </tr>\n",
       "    <tr>\n",
       "      <th>158236</th>\n",
       "      <td>694676</td>\n",
       "      <td>RhiNo DS 2kg</td>\n",
       "      <td>NaN</td>\n",
       "      <td>2016-05-11</td>\n",
       "      <td>2016-06-26</td>\n",
       "      <td>Agrochemicals</td>\n",
       "      <td>CH-RHINDS2</td>\n",
       "      <td>Crop Protection</td>\n",
       "      <td>A00301</td>\n",
       "      <td>-240.00</td>\n",
       "      <td>Full</td>\n",
       "      <td>Newark</td>\n",
       "      <td>2015-06-02</td>\n",
       "    </tr>\n",
       "    <tr>\n",
       "      <th>438543</th>\n",
       "      <td>662285</td>\n",
       "      <td>Pincer 5lt</td>\n",
       "      <td>NaN</td>\n",
       "      <td>2016-10-25</td>\n",
       "      <td>2016-11-30</td>\n",
       "      <td>Agrochemicals</td>\n",
       "      <td>CH-PINCER5</td>\n",
       "      <td>Crop Protection</td>\n",
       "      <td>A00038</td>\n",
       "      <td>568.00</td>\n",
       "      <td>2nd Account</td>\n",
       "      <td>Norwich</td>\n",
       "      <td>2006-03-07</td>\n",
       "    </tr>\n",
       "    <tr>\n",
       "      <th>129303</th>\n",
       "      <td>693180</td>\n",
       "      <td>Animal Health Products</td>\n",
       "      <td>NaN</td>\n",
       "      <td>2016-04-28</td>\n",
       "      <td>2016-05-26</td>\n",
       "      <td>Vet fees &amp; Animal Health / Semen</td>\n",
       "      <td>SU-ANHEAL</td>\n",
       "      <td>Feed &amp; Animal Health &amp; Vets Fees</td>\n",
       "      <td>G00012</td>\n",
       "      <td>19.20</td>\n",
       "      <td>Full</td>\n",
       "      <td>East Barsham</td>\n",
       "      <td>1986-04-01</td>\n",
       "    </tr>\n",
       "    <tr>\n",
       "      <th>90797</th>\n",
       "      <td>640060</td>\n",
       "      <td>optE-Man DF 10kg</td>\n",
       "      <td>NaN</td>\n",
       "      <td>2016-04-01</td>\n",
       "      <td>2016-05-26</td>\n",
       "      <td>Agrochemicals</td>\n",
       "      <td>CH-OPTE10K</td>\n",
       "      <td>Crop Protection</td>\n",
       "      <td>A00301</td>\n",
       "      <td>286.20</td>\n",
       "      <td>Full</td>\n",
       "      <td>Lode</td>\n",
       "      <td>2006-07-01</td>\n",
       "    </tr>\n",
       "  </tbody>\n",
       "</table>\n",
       "</div>"
      ],
      "text/plain": [
       "        CMemNo              Description Failed    InvDate InvPaymentDate  \\\n",
       "220069  615006  Monthly Mobile Contract    NaN 2016-06-15     2016-07-26   \n",
       "158236  694676             RhiNo DS 2kg    NaN 2016-05-11     2016-06-26   \n",
       "438543  662285               Pincer 5lt    NaN 2016-10-25     2016-11-30   \n",
       "129303  693180   Animal Health Products    NaN 2016-04-28     2016-05-26   \n",
       "90797   640060         optE-Man DF 10kg    NaN 2016-04-01     2016-05-26   \n",
       "\n",
       "                            ProdCategory    ProdCode  \\\n",
       "220069                            Mobile      MS-MOB   \n",
       "158236                     Agrochemicals  CH-RHINDS2   \n",
       "438543                     Agrochemicals  CH-PINCER5   \n",
       "129303  Vet fees & Animal Health / Semen   SU-ANHEAL   \n",
       "90797                      Agrochemicals  CH-OPTE10K   \n",
       "\n",
       "                         ProductAreaName  SuppID  InvNet (SUM)  \\\n",
       "220069                          Telecoms  V00027         60.27   \n",
       "158236                   Crop Protection  A00301       -240.00   \n",
       "438543                   Crop Protection  A00038        568.00   \n",
       "129303  Feed & Animal Health & Vets Fees  G00012         19.20   \n",
       "90797                    Crop Protection  A00301        286.20   \n",
       "\n",
       "            Member Type          Town Member Join Date  \n",
       "220069  Samco and Shrim        Dunmow       2005-07-11  \n",
       "158236             Full        Newark       2015-06-02  \n",
       "438543      2nd Account       Norwich       2006-03-07  \n",
       "129303             Full  East Barsham       1986-04-01  \n",
       "90797              Full          Lode       2006-07-01  "
      ]
     },
     "execution_count": 40,
     "metadata": {},
     "output_type": "execute_result"
    }
   ],
   "source": [
    "dc.head()"
   ]
  },
  {
   "cell_type": "code",
   "execution_count": 41,
   "id": "38f7d95b",
   "metadata": {},
   "outputs": [],
   "source": [
    "dc.reset_index(inplace=True)"
   ]
  },
  {
   "cell_type": "code",
   "execution_count": 42,
   "id": "e8d33d22",
   "metadata": {},
   "outputs": [],
   "source": [
    "dc['Failed']=dc['Failed'].fillna('success')"
   ]
  },
  {
   "cell_type": "code",
   "execution_count": 43,
   "id": "44655c30",
   "metadata": {},
   "outputs": [
    {
     "name": "stdout",
     "output_type": "stream",
     "text": [
      "Overview of the dataset:\n",
      "\n",
      "Number of rows:  150000\n",
      "\n",
      "Number of features: 14\n",
      "\n",
      "Data Features:\n",
      "['index', 'CMemNo', 'Description', 'Failed', 'InvDate', 'InvPaymentDate', 'ProdCategory', 'ProdCode', 'ProductAreaName', 'SuppID', 'InvNet (SUM)', 'Member Type', 'Town', 'Member Join Date']\n",
      "\n",
      "Missing values: 6909\n",
      "\n",
      "Unique values:\n",
      "index               150000\n",
      "CMemNo                4550\n",
      "Description          41288\n",
      "Failed                   2\n",
      "InvDate                468\n",
      "InvPaymentDate         348\n",
      "ProdCategory            35\n",
      "ProdCode              1964\n",
      "ProductAreaName         21\n",
      "SuppID                1185\n",
      "InvNet (SUM)         45413\n",
      "Member Type             48\n",
      "Town                   840\n",
      "Member Join Date      1575\n",
      "dtype: int64\n"
     ]
    }
   ],
   "source": [
    "#Get overview of the data\n",
    "def dataoveriew(df, message):\n",
    "    print(f'{message}:\\n')\n",
    "    print('Number of rows: ', df.shape[0])\n",
    "    print(\"\\nNumber of features:\", df.shape[1])\n",
    "    print(\"\\nData Features:\")\n",
    "    print(df.columns.tolist())\n",
    "    print(\"\\nMissing values:\", df.isnull().sum().values.sum())\n",
    "    print(\"\\nUnique values:\")\n",
    "    print(df.nunique())\n",
    "    \n",
    "dataoveriew(dc, 'Overview of the dataset')"
   ]
  },
  {
   "cell_type": "code",
   "execution_count": 44,
   "id": "945645f5",
   "metadata": {},
   "outputs": [
    {
     "data": {
      "application/vnd.plotly.v1+json": {
       "config": {
        "plotlyServerURL": "https://plot.ly"
       },
       "data": [
        {
         "domain": {
          "x": [
           0,
           1
          ],
          "y": [
           0,
           1
          ]
         },
         "hovertemplate": "Category=%{label}<br>Failed=%{value}<extra></extra>",
         "labels": [
          "success",
          "Failed"
         ],
         "legendgroup": "",
         "name": "",
         "showlegend": true,
         "type": "pie",
         "values": [
          149403,
          597
         ]
        }
       ],
       "layout": {
        "legend": {
         "tracegroupgap": 0
        },
        "piecolorway": [
         "green",
         "red"
        ],
        "template": {
         "data": {
          "bar": [
           {
            "error_x": {
             "color": "#2a3f5f"
            },
            "error_y": {
             "color": "#2a3f5f"
            },
            "marker": {
             "line": {
              "color": "#E5ECF6",
              "width": 0.5
             },
             "pattern": {
              "fillmode": "overlay",
              "size": 10,
              "solidity": 0.2
             }
            },
            "type": "bar"
           }
          ],
          "barpolar": [
           {
            "marker": {
             "line": {
              "color": "#E5ECF6",
              "width": 0.5
             },
             "pattern": {
              "fillmode": "overlay",
              "size": 10,
              "solidity": 0.2
             }
            },
            "type": "barpolar"
           }
          ],
          "carpet": [
           {
            "aaxis": {
             "endlinecolor": "#2a3f5f",
             "gridcolor": "white",
             "linecolor": "white",
             "minorgridcolor": "white",
             "startlinecolor": "#2a3f5f"
            },
            "baxis": {
             "endlinecolor": "#2a3f5f",
             "gridcolor": "white",
             "linecolor": "white",
             "minorgridcolor": "white",
             "startlinecolor": "#2a3f5f"
            },
            "type": "carpet"
           }
          ],
          "choropleth": [
           {
            "colorbar": {
             "outlinewidth": 0,
             "ticks": ""
            },
            "type": "choropleth"
           }
          ],
          "contour": [
           {
            "colorbar": {
             "outlinewidth": 0,
             "ticks": ""
            },
            "colorscale": [
             [
              0,
              "#0d0887"
             ],
             [
              0.1111111111111111,
              "#46039f"
             ],
             [
              0.2222222222222222,
              "#7201a8"
             ],
             [
              0.3333333333333333,
              "#9c179e"
             ],
             [
              0.4444444444444444,
              "#bd3786"
             ],
             [
              0.5555555555555556,
              "#d8576b"
             ],
             [
              0.6666666666666666,
              "#ed7953"
             ],
             [
              0.7777777777777778,
              "#fb9f3a"
             ],
             [
              0.8888888888888888,
              "#fdca26"
             ],
             [
              1,
              "#f0f921"
             ]
            ],
            "type": "contour"
           }
          ],
          "contourcarpet": [
           {
            "colorbar": {
             "outlinewidth": 0,
             "ticks": ""
            },
            "type": "contourcarpet"
           }
          ],
          "heatmap": [
           {
            "colorbar": {
             "outlinewidth": 0,
             "ticks": ""
            },
            "colorscale": [
             [
              0,
              "#0d0887"
             ],
             [
              0.1111111111111111,
              "#46039f"
             ],
             [
              0.2222222222222222,
              "#7201a8"
             ],
             [
              0.3333333333333333,
              "#9c179e"
             ],
             [
              0.4444444444444444,
              "#bd3786"
             ],
             [
              0.5555555555555556,
              "#d8576b"
             ],
             [
              0.6666666666666666,
              "#ed7953"
             ],
             [
              0.7777777777777778,
              "#fb9f3a"
             ],
             [
              0.8888888888888888,
              "#fdca26"
             ],
             [
              1,
              "#f0f921"
             ]
            ],
            "type": "heatmap"
           }
          ],
          "heatmapgl": [
           {
            "colorbar": {
             "outlinewidth": 0,
             "ticks": ""
            },
            "colorscale": [
             [
              0,
              "#0d0887"
             ],
             [
              0.1111111111111111,
              "#46039f"
             ],
             [
              0.2222222222222222,
              "#7201a8"
             ],
             [
              0.3333333333333333,
              "#9c179e"
             ],
             [
              0.4444444444444444,
              "#bd3786"
             ],
             [
              0.5555555555555556,
              "#d8576b"
             ],
             [
              0.6666666666666666,
              "#ed7953"
             ],
             [
              0.7777777777777778,
              "#fb9f3a"
             ],
             [
              0.8888888888888888,
              "#fdca26"
             ],
             [
              1,
              "#f0f921"
             ]
            ],
            "type": "heatmapgl"
           }
          ],
          "histogram": [
           {
            "marker": {
             "pattern": {
              "fillmode": "overlay",
              "size": 10,
              "solidity": 0.2
             }
            },
            "type": "histogram"
           }
          ],
          "histogram2d": [
           {
            "colorbar": {
             "outlinewidth": 0,
             "ticks": ""
            },
            "colorscale": [
             [
              0,
              "#0d0887"
             ],
             [
              0.1111111111111111,
              "#46039f"
             ],
             [
              0.2222222222222222,
              "#7201a8"
             ],
             [
              0.3333333333333333,
              "#9c179e"
             ],
             [
              0.4444444444444444,
              "#bd3786"
             ],
             [
              0.5555555555555556,
              "#d8576b"
             ],
             [
              0.6666666666666666,
              "#ed7953"
             ],
             [
              0.7777777777777778,
              "#fb9f3a"
             ],
             [
              0.8888888888888888,
              "#fdca26"
             ],
             [
              1,
              "#f0f921"
             ]
            ],
            "type": "histogram2d"
           }
          ],
          "histogram2dcontour": [
           {
            "colorbar": {
             "outlinewidth": 0,
             "ticks": ""
            },
            "colorscale": [
             [
              0,
              "#0d0887"
             ],
             [
              0.1111111111111111,
              "#46039f"
             ],
             [
              0.2222222222222222,
              "#7201a8"
             ],
             [
              0.3333333333333333,
              "#9c179e"
             ],
             [
              0.4444444444444444,
              "#bd3786"
             ],
             [
              0.5555555555555556,
              "#d8576b"
             ],
             [
              0.6666666666666666,
              "#ed7953"
             ],
             [
              0.7777777777777778,
              "#fb9f3a"
             ],
             [
              0.8888888888888888,
              "#fdca26"
             ],
             [
              1,
              "#f0f921"
             ]
            ],
            "type": "histogram2dcontour"
           }
          ],
          "mesh3d": [
           {
            "colorbar": {
             "outlinewidth": 0,
             "ticks": ""
            },
            "type": "mesh3d"
           }
          ],
          "parcoords": [
           {
            "line": {
             "colorbar": {
              "outlinewidth": 0,
              "ticks": ""
             }
            },
            "type": "parcoords"
           }
          ],
          "pie": [
           {
            "automargin": true,
            "type": "pie"
           }
          ],
          "scatter": [
           {
            "fillpattern": {
             "fillmode": "overlay",
             "size": 10,
             "solidity": 0.2
            },
            "type": "scatter"
           }
          ],
          "scatter3d": [
           {
            "line": {
             "colorbar": {
              "outlinewidth": 0,
              "ticks": ""
             }
            },
            "marker": {
             "colorbar": {
              "outlinewidth": 0,
              "ticks": ""
             }
            },
            "type": "scatter3d"
           }
          ],
          "scattercarpet": [
           {
            "marker": {
             "colorbar": {
              "outlinewidth": 0,
              "ticks": ""
             }
            },
            "type": "scattercarpet"
           }
          ],
          "scattergeo": [
           {
            "marker": {
             "colorbar": {
              "outlinewidth": 0,
              "ticks": ""
             }
            },
            "type": "scattergeo"
           }
          ],
          "scattergl": [
           {
            "marker": {
             "colorbar": {
              "outlinewidth": 0,
              "ticks": ""
             }
            },
            "type": "scattergl"
           }
          ],
          "scattermapbox": [
           {
            "marker": {
             "colorbar": {
              "outlinewidth": 0,
              "ticks": ""
             }
            },
            "type": "scattermapbox"
           }
          ],
          "scatterpolar": [
           {
            "marker": {
             "colorbar": {
              "outlinewidth": 0,
              "ticks": ""
             }
            },
            "type": "scatterpolar"
           }
          ],
          "scatterpolargl": [
           {
            "marker": {
             "colorbar": {
              "outlinewidth": 0,
              "ticks": ""
             }
            },
            "type": "scatterpolargl"
           }
          ],
          "scatterternary": [
           {
            "marker": {
             "colorbar": {
              "outlinewidth": 0,
              "ticks": ""
             }
            },
            "type": "scatterternary"
           }
          ],
          "surface": [
           {
            "colorbar": {
             "outlinewidth": 0,
             "ticks": ""
            },
            "colorscale": [
             [
              0,
              "#0d0887"
             ],
             [
              0.1111111111111111,
              "#46039f"
             ],
             [
              0.2222222222222222,
              "#7201a8"
             ],
             [
              0.3333333333333333,
              "#9c179e"
             ],
             [
              0.4444444444444444,
              "#bd3786"
             ],
             [
              0.5555555555555556,
              "#d8576b"
             ],
             [
              0.6666666666666666,
              "#ed7953"
             ],
             [
              0.7777777777777778,
              "#fb9f3a"
             ],
             [
              0.8888888888888888,
              "#fdca26"
             ],
             [
              1,
              "#f0f921"
             ]
            ],
            "type": "surface"
           }
          ],
          "table": [
           {
            "cells": {
             "fill": {
              "color": "#EBF0F8"
             },
             "line": {
              "color": "white"
             }
            },
            "header": {
             "fill": {
              "color": "#C8D4E3"
             },
             "line": {
              "color": "white"
             }
            },
            "type": "table"
           }
          ]
         },
         "layout": {
          "annotationdefaults": {
           "arrowcolor": "#2a3f5f",
           "arrowhead": 0,
           "arrowwidth": 1
          },
          "autotypenumbers": "strict",
          "coloraxis": {
           "colorbar": {
            "outlinewidth": 0,
            "ticks": ""
           }
          },
          "colorscale": {
           "diverging": [
            [
             0,
             "#8e0152"
            ],
            [
             0.1,
             "#c51b7d"
            ],
            [
             0.2,
             "#de77ae"
            ],
            [
             0.3,
             "#f1b6da"
            ],
            [
             0.4,
             "#fde0ef"
            ],
            [
             0.5,
             "#f7f7f7"
            ],
            [
             0.6,
             "#e6f5d0"
            ],
            [
             0.7,
             "#b8e186"
            ],
            [
             0.8,
             "#7fbc41"
            ],
            [
             0.9,
             "#4d9221"
            ],
            [
             1,
             "#276419"
            ]
           ],
           "sequential": [
            [
             0,
             "#0d0887"
            ],
            [
             0.1111111111111111,
             "#46039f"
            ],
            [
             0.2222222222222222,
             "#7201a8"
            ],
            [
             0.3333333333333333,
             "#9c179e"
            ],
            [
             0.4444444444444444,
             "#bd3786"
            ],
            [
             0.5555555555555556,
             "#d8576b"
            ],
            [
             0.6666666666666666,
             "#ed7953"
            ],
            [
             0.7777777777777778,
             "#fb9f3a"
            ],
            [
             0.8888888888888888,
             "#fdca26"
            ],
            [
             1,
             "#f0f921"
            ]
           ],
           "sequentialminus": [
            [
             0,
             "#0d0887"
            ],
            [
             0.1111111111111111,
             "#46039f"
            ],
            [
             0.2222222222222222,
             "#7201a8"
            ],
            [
             0.3333333333333333,
             "#9c179e"
            ],
            [
             0.4444444444444444,
             "#bd3786"
            ],
            [
             0.5555555555555556,
             "#d8576b"
            ],
            [
             0.6666666666666666,
             "#ed7953"
            ],
            [
             0.7777777777777778,
             "#fb9f3a"
            ],
            [
             0.8888888888888888,
             "#fdca26"
            ],
            [
             1,
             "#f0f921"
            ]
           ]
          },
          "colorway": [
           "#636efa",
           "#EF553B",
           "#00cc96",
           "#ab63fa",
           "#FFA15A",
           "#19d3f3",
           "#FF6692",
           "#B6E880",
           "#FF97FF",
           "#FECB52"
          ],
          "font": {
           "color": "#2a3f5f"
          },
          "geo": {
           "bgcolor": "white",
           "lakecolor": "white",
           "landcolor": "#E5ECF6",
           "showlakes": true,
           "showland": true,
           "subunitcolor": "white"
          },
          "hoverlabel": {
           "align": "left"
          },
          "hovermode": "closest",
          "mapbox": {
           "style": "light"
          },
          "paper_bgcolor": "white",
          "plot_bgcolor": "#E5ECF6",
          "polar": {
           "angularaxis": {
            "gridcolor": "white",
            "linecolor": "white",
            "ticks": ""
           },
           "bgcolor": "#E5ECF6",
           "radialaxis": {
            "gridcolor": "white",
            "linecolor": "white",
            "ticks": ""
           }
          },
          "scene": {
           "xaxis": {
            "backgroundcolor": "#E5ECF6",
            "gridcolor": "white",
            "gridwidth": 2,
            "linecolor": "white",
            "showbackground": true,
            "ticks": "",
            "zerolinecolor": "white"
           },
           "yaxis": {
            "backgroundcolor": "#E5ECF6",
            "gridcolor": "white",
            "gridwidth": 2,
            "linecolor": "white",
            "showbackground": true,
            "ticks": "",
            "zerolinecolor": "white"
           },
           "zaxis": {
            "backgroundcolor": "#E5ECF6",
            "gridcolor": "white",
            "gridwidth": 2,
            "linecolor": "white",
            "showbackground": true,
            "ticks": "",
            "zerolinecolor": "white"
           }
          },
          "shapedefaults": {
           "line": {
            "color": "#2a3f5f"
           }
          },
          "ternary": {
           "aaxis": {
            "gridcolor": "white",
            "linecolor": "white",
            "ticks": ""
           },
           "baxis": {
            "gridcolor": "white",
            "linecolor": "white",
            "ticks": ""
           },
           "bgcolor": "#E5ECF6",
           "caxis": {
            "gridcolor": "white",
            "linecolor": "white",
            "ticks": ""
           }
          },
          "title": {
           "x": 0.05
          },
          "xaxis": {
           "automargin": true,
           "gridcolor": "white",
           "linecolor": "white",
           "ticks": "",
           "title": {
            "standoff": 15
           },
           "zerolinecolor": "white",
           "zerolinewidth": 2
          },
          "yaxis": {
           "automargin": true,
           "gridcolor": "white",
           "linecolor": "white",
           "ticks": "",
           "title": {
            "standoff": 15
           },
           "zerolinecolor": "white",
           "zerolinewidth": 2
          }
         }
        },
        "title": {
         "text": "Distribution of Churn"
        }
       }
      },
      "text/html": [
       "<div>                            <div id=\"bdc5d12d-3537-4411-958d-9c8d26a29afa\" class=\"plotly-graph-div\" style=\"height:525px; width:100%;\"></div>            <script type=\"text/javascript\">                require([\"plotly\"], function(Plotly) {                    window.PLOTLYENV=window.PLOTLYENV || {};                                    if (document.getElementById(\"bdc5d12d-3537-4411-958d-9c8d26a29afa\")) {                    Plotly.newPlot(                        \"bdc5d12d-3537-4411-958d-9c8d26a29afa\",                        [{\"domain\":{\"x\":[0.0,1.0],\"y\":[0.0,1.0]},\"hovertemplate\":\"Category=%{label}<br>Failed=%{value}<extra></extra>\",\"labels\":[\"success\",\"Failed\"],\"legendgroup\":\"\",\"name\":\"\",\"showlegend\":true,\"values\":[149403,597],\"type\":\"pie\"}],                        {\"template\":{\"data\":{\"histogram2dcontour\":[{\"type\":\"histogram2dcontour\",\"colorbar\":{\"outlinewidth\":0,\"ticks\":\"\"},\"colorscale\":[[0.0,\"#0d0887\"],[0.1111111111111111,\"#46039f\"],[0.2222222222222222,\"#7201a8\"],[0.3333333333333333,\"#9c179e\"],[0.4444444444444444,\"#bd3786\"],[0.5555555555555556,\"#d8576b\"],[0.6666666666666666,\"#ed7953\"],[0.7777777777777778,\"#fb9f3a\"],[0.8888888888888888,\"#fdca26\"],[1.0,\"#f0f921\"]]}],\"choropleth\":[{\"type\":\"choropleth\",\"colorbar\":{\"outlinewidth\":0,\"ticks\":\"\"}}],\"histogram2d\":[{\"type\":\"histogram2d\",\"colorbar\":{\"outlinewidth\":0,\"ticks\":\"\"},\"colorscale\":[[0.0,\"#0d0887\"],[0.1111111111111111,\"#46039f\"],[0.2222222222222222,\"#7201a8\"],[0.3333333333333333,\"#9c179e\"],[0.4444444444444444,\"#bd3786\"],[0.5555555555555556,\"#d8576b\"],[0.6666666666666666,\"#ed7953\"],[0.7777777777777778,\"#fb9f3a\"],[0.8888888888888888,\"#fdca26\"],[1.0,\"#f0f921\"]]}],\"heatmap\":[{\"type\":\"heatmap\",\"colorbar\":{\"outlinewidth\":0,\"ticks\":\"\"},\"colorscale\":[[0.0,\"#0d0887\"],[0.1111111111111111,\"#46039f\"],[0.2222222222222222,\"#7201a8\"],[0.3333333333333333,\"#9c179e\"],[0.4444444444444444,\"#bd3786\"],[0.5555555555555556,\"#d8576b\"],[0.6666666666666666,\"#ed7953\"],[0.7777777777777778,\"#fb9f3a\"],[0.8888888888888888,\"#fdca26\"],[1.0,\"#f0f921\"]]}],\"heatmapgl\":[{\"type\":\"heatmapgl\",\"colorbar\":{\"outlinewidth\":0,\"ticks\":\"\"},\"colorscale\":[[0.0,\"#0d0887\"],[0.1111111111111111,\"#46039f\"],[0.2222222222222222,\"#7201a8\"],[0.3333333333333333,\"#9c179e\"],[0.4444444444444444,\"#bd3786\"],[0.5555555555555556,\"#d8576b\"],[0.6666666666666666,\"#ed7953\"],[0.7777777777777778,\"#fb9f3a\"],[0.8888888888888888,\"#fdca26\"],[1.0,\"#f0f921\"]]}],\"contourcarpet\":[{\"type\":\"contourcarpet\",\"colorbar\":{\"outlinewidth\":0,\"ticks\":\"\"}}],\"contour\":[{\"type\":\"contour\",\"colorbar\":{\"outlinewidth\":0,\"ticks\":\"\"},\"colorscale\":[[0.0,\"#0d0887\"],[0.1111111111111111,\"#46039f\"],[0.2222222222222222,\"#7201a8\"],[0.3333333333333333,\"#9c179e\"],[0.4444444444444444,\"#bd3786\"],[0.5555555555555556,\"#d8576b\"],[0.6666666666666666,\"#ed7953\"],[0.7777777777777778,\"#fb9f3a\"],[0.8888888888888888,\"#fdca26\"],[1.0,\"#f0f921\"]]}],\"surface\":[{\"type\":\"surface\",\"colorbar\":{\"outlinewidth\":0,\"ticks\":\"\"},\"colorscale\":[[0.0,\"#0d0887\"],[0.1111111111111111,\"#46039f\"],[0.2222222222222222,\"#7201a8\"],[0.3333333333333333,\"#9c179e\"],[0.4444444444444444,\"#bd3786\"],[0.5555555555555556,\"#d8576b\"],[0.6666666666666666,\"#ed7953\"],[0.7777777777777778,\"#fb9f3a\"],[0.8888888888888888,\"#fdca26\"],[1.0,\"#f0f921\"]]}],\"mesh3d\":[{\"type\":\"mesh3d\",\"colorbar\":{\"outlinewidth\":0,\"ticks\":\"\"}}],\"scatter\":[{\"fillpattern\":{\"fillmode\":\"overlay\",\"size\":10,\"solidity\":0.2},\"type\":\"scatter\"}],\"parcoords\":[{\"type\":\"parcoords\",\"line\":{\"colorbar\":{\"outlinewidth\":0,\"ticks\":\"\"}}}],\"scatterpolargl\":[{\"type\":\"scatterpolargl\",\"marker\":{\"colorbar\":{\"outlinewidth\":0,\"ticks\":\"\"}}}],\"bar\":[{\"error_x\":{\"color\":\"#2a3f5f\"},\"error_y\":{\"color\":\"#2a3f5f\"},\"marker\":{\"line\":{\"color\":\"#E5ECF6\",\"width\":0.5},\"pattern\":{\"fillmode\":\"overlay\",\"size\":10,\"solidity\":0.2}},\"type\":\"bar\"}],\"scattergeo\":[{\"type\":\"scattergeo\",\"marker\":{\"colorbar\":{\"outlinewidth\":0,\"ticks\":\"\"}}}],\"scatterpolar\":[{\"type\":\"scatterpolar\",\"marker\":{\"colorbar\":{\"outlinewidth\":0,\"ticks\":\"\"}}}],\"histogram\":[{\"marker\":{\"pattern\":{\"fillmode\":\"overlay\",\"size\":10,\"solidity\":0.2}},\"type\":\"histogram\"}],\"scattergl\":[{\"type\":\"scattergl\",\"marker\":{\"colorbar\":{\"outlinewidth\":0,\"ticks\":\"\"}}}],\"scatter3d\":[{\"type\":\"scatter3d\",\"line\":{\"colorbar\":{\"outlinewidth\":0,\"ticks\":\"\"}},\"marker\":{\"colorbar\":{\"outlinewidth\":0,\"ticks\":\"\"}}}],\"scattermapbox\":[{\"type\":\"scattermapbox\",\"marker\":{\"colorbar\":{\"outlinewidth\":0,\"ticks\":\"\"}}}],\"scatterternary\":[{\"type\":\"scatterternary\",\"marker\":{\"colorbar\":{\"outlinewidth\":0,\"ticks\":\"\"}}}],\"scattercarpet\":[{\"type\":\"scattercarpet\",\"marker\":{\"colorbar\":{\"outlinewidth\":0,\"ticks\":\"\"}}}],\"carpet\":[{\"aaxis\":{\"endlinecolor\":\"#2a3f5f\",\"gridcolor\":\"white\",\"linecolor\":\"white\",\"minorgridcolor\":\"white\",\"startlinecolor\":\"#2a3f5f\"},\"baxis\":{\"endlinecolor\":\"#2a3f5f\",\"gridcolor\":\"white\",\"linecolor\":\"white\",\"minorgridcolor\":\"white\",\"startlinecolor\":\"#2a3f5f\"},\"type\":\"carpet\"}],\"table\":[{\"cells\":{\"fill\":{\"color\":\"#EBF0F8\"},\"line\":{\"color\":\"white\"}},\"header\":{\"fill\":{\"color\":\"#C8D4E3\"},\"line\":{\"color\":\"white\"}},\"type\":\"table\"}],\"barpolar\":[{\"marker\":{\"line\":{\"color\":\"#E5ECF6\",\"width\":0.5},\"pattern\":{\"fillmode\":\"overlay\",\"size\":10,\"solidity\":0.2}},\"type\":\"barpolar\"}],\"pie\":[{\"automargin\":true,\"type\":\"pie\"}]},\"layout\":{\"autotypenumbers\":\"strict\",\"colorway\":[\"#636efa\",\"#EF553B\",\"#00cc96\",\"#ab63fa\",\"#FFA15A\",\"#19d3f3\",\"#FF6692\",\"#B6E880\",\"#FF97FF\",\"#FECB52\"],\"font\":{\"color\":\"#2a3f5f\"},\"hovermode\":\"closest\",\"hoverlabel\":{\"align\":\"left\"},\"paper_bgcolor\":\"white\",\"plot_bgcolor\":\"#E5ECF6\",\"polar\":{\"bgcolor\":\"#E5ECF6\",\"angularaxis\":{\"gridcolor\":\"white\",\"linecolor\":\"white\",\"ticks\":\"\"},\"radialaxis\":{\"gridcolor\":\"white\",\"linecolor\":\"white\",\"ticks\":\"\"}},\"ternary\":{\"bgcolor\":\"#E5ECF6\",\"aaxis\":{\"gridcolor\":\"white\",\"linecolor\":\"white\",\"ticks\":\"\"},\"baxis\":{\"gridcolor\":\"white\",\"linecolor\":\"white\",\"ticks\":\"\"},\"caxis\":{\"gridcolor\":\"white\",\"linecolor\":\"white\",\"ticks\":\"\"}},\"coloraxis\":{\"colorbar\":{\"outlinewidth\":0,\"ticks\":\"\"}},\"colorscale\":{\"sequential\":[[0.0,\"#0d0887\"],[0.1111111111111111,\"#46039f\"],[0.2222222222222222,\"#7201a8\"],[0.3333333333333333,\"#9c179e\"],[0.4444444444444444,\"#bd3786\"],[0.5555555555555556,\"#d8576b\"],[0.6666666666666666,\"#ed7953\"],[0.7777777777777778,\"#fb9f3a\"],[0.8888888888888888,\"#fdca26\"],[1.0,\"#f0f921\"]],\"sequentialminus\":[[0.0,\"#0d0887\"],[0.1111111111111111,\"#46039f\"],[0.2222222222222222,\"#7201a8\"],[0.3333333333333333,\"#9c179e\"],[0.4444444444444444,\"#bd3786\"],[0.5555555555555556,\"#d8576b\"],[0.6666666666666666,\"#ed7953\"],[0.7777777777777778,\"#fb9f3a\"],[0.8888888888888888,\"#fdca26\"],[1.0,\"#f0f921\"]],\"diverging\":[[0,\"#8e0152\"],[0.1,\"#c51b7d\"],[0.2,\"#de77ae\"],[0.3,\"#f1b6da\"],[0.4,\"#fde0ef\"],[0.5,\"#f7f7f7\"],[0.6,\"#e6f5d0\"],[0.7,\"#b8e186\"],[0.8,\"#7fbc41\"],[0.9,\"#4d9221\"],[1,\"#276419\"]]},\"xaxis\":{\"gridcolor\":\"white\",\"linecolor\":\"white\",\"ticks\":\"\",\"title\":{\"standoff\":15},\"zerolinecolor\":\"white\",\"automargin\":true,\"zerolinewidth\":2},\"yaxis\":{\"gridcolor\":\"white\",\"linecolor\":\"white\",\"ticks\":\"\",\"title\":{\"standoff\":15},\"zerolinecolor\":\"white\",\"automargin\":true,\"zerolinewidth\":2},\"scene\":{\"xaxis\":{\"backgroundcolor\":\"#E5ECF6\",\"gridcolor\":\"white\",\"linecolor\":\"white\",\"showbackground\":true,\"ticks\":\"\",\"zerolinecolor\":\"white\",\"gridwidth\":2},\"yaxis\":{\"backgroundcolor\":\"#E5ECF6\",\"gridcolor\":\"white\",\"linecolor\":\"white\",\"showbackground\":true,\"ticks\":\"\",\"zerolinecolor\":\"white\",\"gridwidth\":2},\"zaxis\":{\"backgroundcolor\":\"#E5ECF6\",\"gridcolor\":\"white\",\"linecolor\":\"white\",\"showbackground\":true,\"ticks\":\"\",\"zerolinecolor\":\"white\",\"gridwidth\":2}},\"shapedefaults\":{\"line\":{\"color\":\"#2a3f5f\"}},\"annotationdefaults\":{\"arrowcolor\":\"#2a3f5f\",\"arrowhead\":0,\"arrowwidth\":1},\"geo\":{\"bgcolor\":\"white\",\"landcolor\":\"#E5ECF6\",\"subunitcolor\":\"white\",\"showland\":true,\"showlakes\":true,\"lakecolor\":\"white\"},\"title\":{\"x\":0.05},\"mapbox\":{\"style\":\"light\"}}},\"legend\":{\"tracegroupgap\":0},\"title\":{\"text\":\"Distribution of Churn\"},\"piecolorway\":[\"green\",\"red\"]},                        {\"responsive\": true}                    ).then(function(){\n",
       "                            \n",
       "var gd = document.getElementById('bdc5d12d-3537-4411-958d-9c8d26a29afa');\n",
       "var x = new MutationObserver(function (mutations, observer) {{\n",
       "        var display = window.getComputedStyle(gd).display;\n",
       "        if (!display || display === 'none') {{\n",
       "            console.log([gd, 'removed!']);\n",
       "            Plotly.purge(gd);\n",
       "            observer.disconnect();\n",
       "        }}\n",
       "}});\n",
       "\n",
       "// Listen for the removal of the full notebook cells\n",
       "var notebookContainer = gd.closest('#notebook-container');\n",
       "if (notebookContainer) {{\n",
       "    x.observe(notebookContainer, {childList: true});\n",
       "}}\n",
       "\n",
       "// Listen for the clearing of the current output cell\n",
       "var outputEl = gd.closest('.output');\n",
       "if (outputEl) {{\n",
       "    x.observe(outputEl, {childList: true});\n",
       "}}\n",
       "\n",
       "                        })                };                });            </script>        </div>"
      ]
     },
     "metadata": {},
     "output_type": "display_data"
    }
   ],
   "source": [
    "target_instance = dc[\"Failed\"].value_counts().to_frame()\n",
    "target_instance = target_instance.reset_index()\n",
    "target_instance = target_instance.rename(columns={'index': 'Category'})\n",
    "fig = px.pie(target_instance, values='Failed', names='Category', color_discrete_sequence=[\"green\", \"red\"],\n",
    "             title='Distribution of Churn')\n",
    "fig.show()"
   ]
  },
  {
   "cell_type": "code",
   "execution_count": 45,
   "id": "868516f9",
   "metadata": {},
   "outputs": [
    {
     "data": {
      "text/plain": [
       "index                  0\n",
       "CMemNo                 0\n",
       "Description           10\n",
       "Failed                 0\n",
       "InvDate                0\n",
       "InvPaymentDate         0\n",
       "ProdCategory           1\n",
       "ProdCode               1\n",
       "ProductAreaName        1\n",
       "SuppID              6895\n",
       "InvNet (SUM)           1\n",
       "Member Type            0\n",
       "Town                   0\n",
       "Member Join Date       0\n",
       "dtype: int64"
      ]
     },
     "execution_count": 45,
     "metadata": {},
     "output_type": "execute_result"
    }
   ],
   "source": [
    "dc.isnull().sum()"
   ]
  },
  {
   "cell_type": "code",
   "execution_count": 46,
   "id": "7a101b96",
   "metadata": {},
   "outputs": [],
   "source": [
    "dc.drop(['Description','SuppID'],axis=1,inplace=True)"
   ]
  },
  {
   "cell_type": "code",
   "execution_count": 47,
   "id": "19fd5cc1",
   "metadata": {
    "scrolled": false
   },
   "outputs": [
    {
     "data": {
      "text/plain": [
       "index                        int64\n",
       "CMemNo                       int64\n",
       "Failed                      object\n",
       "InvDate             datetime64[ns]\n",
       "InvPaymentDate      datetime64[ns]\n",
       "ProdCategory                object\n",
       "ProdCode                    object\n",
       "ProductAreaName             object\n",
       "InvNet (SUM)               float64\n",
       "Member Type                 object\n",
       "Town                        object\n",
       "Member Join Date    datetime64[ns]\n",
       "dtype: object"
      ]
     },
     "execution_count": 47,
     "metadata": {},
     "output_type": "execute_result"
    }
   ],
   "source": [
    "dc.dtypes"
   ]
  },
  {
   "cell_type": "code",
   "execution_count": 48,
   "id": "d76ec61c",
   "metadata": {},
   "outputs": [],
   "source": [
    "dc.drop(['InvDate','InvPaymentDate','ProdCategory','ProdCode','Town'],axis=1,inplace=True)"
   ]
  },
  {
   "cell_type": "code",
   "execution_count": 49,
   "id": "d810bb99",
   "metadata": {},
   "outputs": [
    {
     "data": {
      "text/html": [
       "<div>\n",
       "<style scoped>\n",
       "    .dataframe tbody tr th:only-of-type {\n",
       "        vertical-align: middle;\n",
       "    }\n",
       "\n",
       "    .dataframe tbody tr th {\n",
       "        vertical-align: top;\n",
       "    }\n",
       "\n",
       "    .dataframe thead th {\n",
       "        text-align: right;\n",
       "    }\n",
       "</style>\n",
       "<table border=\"1\" class=\"dataframe\">\n",
       "  <thead>\n",
       "    <tr style=\"text-align: right;\">\n",
       "      <th></th>\n",
       "      <th>index</th>\n",
       "      <th>CMemNo</th>\n",
       "      <th>Failed</th>\n",
       "      <th>ProductAreaName</th>\n",
       "      <th>InvNet (SUM)</th>\n",
       "      <th>Member Type</th>\n",
       "      <th>Member Join Date</th>\n",
       "    </tr>\n",
       "  </thead>\n",
       "  <tbody>\n",
       "    <tr>\n",
       "      <th>0</th>\n",
       "      <td>220069</td>\n",
       "      <td>615006</td>\n",
       "      <td>success</td>\n",
       "      <td>Telecoms</td>\n",
       "      <td>60.27</td>\n",
       "      <td>Samco and Shrim</td>\n",
       "      <td>2005-07-11</td>\n",
       "    </tr>\n",
       "    <tr>\n",
       "      <th>1</th>\n",
       "      <td>158236</td>\n",
       "      <td>694676</td>\n",
       "      <td>success</td>\n",
       "      <td>Crop Protection</td>\n",
       "      <td>-240.00</td>\n",
       "      <td>Full</td>\n",
       "      <td>2015-06-02</td>\n",
       "    </tr>\n",
       "    <tr>\n",
       "      <th>2</th>\n",
       "      <td>438543</td>\n",
       "      <td>662285</td>\n",
       "      <td>success</td>\n",
       "      <td>Crop Protection</td>\n",
       "      <td>568.00</td>\n",
       "      <td>2nd Account</td>\n",
       "      <td>2006-03-07</td>\n",
       "    </tr>\n",
       "    <tr>\n",
       "      <th>3</th>\n",
       "      <td>129303</td>\n",
       "      <td>693180</td>\n",
       "      <td>success</td>\n",
       "      <td>Feed &amp; Animal Health &amp; Vets Fees</td>\n",
       "      <td>19.20</td>\n",
       "      <td>Full</td>\n",
       "      <td>1986-04-01</td>\n",
       "    </tr>\n",
       "    <tr>\n",
       "      <th>4</th>\n",
       "      <td>90797</td>\n",
       "      <td>640060</td>\n",
       "      <td>success</td>\n",
       "      <td>Crop Protection</td>\n",
       "      <td>286.20</td>\n",
       "      <td>Full</td>\n",
       "      <td>2006-07-01</td>\n",
       "    </tr>\n",
       "  </tbody>\n",
       "</table>\n",
       "</div>"
      ],
      "text/plain": [
       "    index  CMemNo   Failed                   ProductAreaName  InvNet (SUM)  \\\n",
       "0  220069  615006  success                          Telecoms         60.27   \n",
       "1  158236  694676  success                   Crop Protection       -240.00   \n",
       "2  438543  662285  success                   Crop Protection        568.00   \n",
       "3  129303  693180  success  Feed & Animal Health & Vets Fees         19.20   \n",
       "4   90797  640060  success                   Crop Protection        286.20   \n",
       "\n",
       "       Member Type Member Join Date  \n",
       "0  Samco and Shrim       2005-07-11  \n",
       "1             Full       2015-06-02  \n",
       "2      2nd Account       2006-03-07  \n",
       "3             Full       1986-04-01  \n",
       "4             Full       2006-07-01  "
      ]
     },
     "execution_count": 49,
     "metadata": {},
     "output_type": "execute_result"
    }
   ],
   "source": [
    "dc.head()"
   ]
  },
  {
   "cell_type": "code",
   "execution_count": 50,
   "id": "b834f73f",
   "metadata": {},
   "outputs": [],
   "source": [
    "#dc['Failed']=dc['Failed'].fillna('success')"
   ]
  },
  {
   "cell_type": "code",
   "execution_count": 51,
   "id": "9024028e",
   "metadata": {},
   "outputs": [],
   "source": [
    "# The customerID column isnt useful as the feature is used for identification of customers. \n",
    "dc.drop([\"CMemNo\"],axis=1,inplace = True)"
   ]
  },
  {
   "cell_type": "code",
   "execution_count": 52,
   "id": "6a838974",
   "metadata": {},
   "outputs": [],
   "source": [
    "dc[\"Failed\"].replace({\"success\":1, \"Failed\": 0}, inplace=True)"
   ]
  },
  {
   "cell_type": "code",
   "execution_count": 23,
   "id": "c9295e27",
   "metadata": {},
   "outputs": [],
   "source": [
    "dc = pd.get_dummies(dc, drop_first=True)"
   ]
  },
  {
   "cell_type": "code",
   "execution_count": 53,
   "id": "7ddf420a",
   "metadata": {
    "scrolled": true
   },
   "outputs": [
    {
     "data": {
      "text/html": [
       "<div>\n",
       "<style scoped>\n",
       "    .dataframe tbody tr th:only-of-type {\n",
       "        vertical-align: middle;\n",
       "    }\n",
       "\n",
       "    .dataframe tbody tr th {\n",
       "        vertical-align: top;\n",
       "    }\n",
       "\n",
       "    .dataframe thead th {\n",
       "        text-align: right;\n",
       "    }\n",
       "</style>\n",
       "<table border=\"1\" class=\"dataframe\">\n",
       "  <thead>\n",
       "    <tr style=\"text-align: right;\">\n",
       "      <th></th>\n",
       "      <th>index</th>\n",
       "      <th>Failed</th>\n",
       "      <th>ProductAreaName</th>\n",
       "      <th>InvNet (SUM)</th>\n",
       "      <th>Member Type</th>\n",
       "      <th>Member Join Date</th>\n",
       "    </tr>\n",
       "  </thead>\n",
       "  <tbody>\n",
       "    <tr>\n",
       "      <th>0</th>\n",
       "      <td>220069</td>\n",
       "      <td>1</td>\n",
       "      <td>Telecoms</td>\n",
       "      <td>60.27</td>\n",
       "      <td>Samco and Shrim</td>\n",
       "      <td>2005-07-11</td>\n",
       "    </tr>\n",
       "    <tr>\n",
       "      <th>1</th>\n",
       "      <td>158236</td>\n",
       "      <td>1</td>\n",
       "      <td>Crop Protection</td>\n",
       "      <td>-240.00</td>\n",
       "      <td>Full</td>\n",
       "      <td>2015-06-02</td>\n",
       "    </tr>\n",
       "    <tr>\n",
       "      <th>2</th>\n",
       "      <td>438543</td>\n",
       "      <td>1</td>\n",
       "      <td>Crop Protection</td>\n",
       "      <td>568.00</td>\n",
       "      <td>2nd Account</td>\n",
       "      <td>2006-03-07</td>\n",
       "    </tr>\n",
       "    <tr>\n",
       "      <th>3</th>\n",
       "      <td>129303</td>\n",
       "      <td>1</td>\n",
       "      <td>Feed &amp; Animal Health &amp; Vets Fees</td>\n",
       "      <td>19.20</td>\n",
       "      <td>Full</td>\n",
       "      <td>1986-04-01</td>\n",
       "    </tr>\n",
       "    <tr>\n",
       "      <th>4</th>\n",
       "      <td>90797</td>\n",
       "      <td>1</td>\n",
       "      <td>Crop Protection</td>\n",
       "      <td>286.20</td>\n",
       "      <td>Full</td>\n",
       "      <td>2006-07-01</td>\n",
       "    </tr>\n",
       "  </tbody>\n",
       "</table>\n",
       "</div>"
      ],
      "text/plain": [
       "    index  Failed                   ProductAreaName  InvNet (SUM)  \\\n",
       "0  220069       1                          Telecoms         60.27   \n",
       "1  158236       1                   Crop Protection       -240.00   \n",
       "2  438543       1                   Crop Protection        568.00   \n",
       "3  129303       1  Feed & Animal Health & Vets Fees         19.20   \n",
       "4   90797       1                   Crop Protection        286.20   \n",
       "\n",
       "       Member Type Member Join Date  \n",
       "0  Samco and Shrim       2005-07-11  \n",
       "1             Full       2015-06-02  \n",
       "2      2nd Account       2006-03-07  \n",
       "3             Full       1986-04-01  \n",
       "4             Full       2006-07-01  "
      ]
     },
     "execution_count": 53,
     "metadata": {},
     "output_type": "execute_result"
    }
   ],
   "source": [
    "dc.head()"
   ]
  },
  {
   "cell_type": "code",
   "execution_count": 54,
   "id": "70727c81",
   "metadata": {},
   "outputs": [],
   "source": [
    "from sklearn.preprocessing import LabelEncoder"
   ]
  },
  {
   "cell_type": "code",
   "execution_count": 55,
   "id": "b47452bd",
   "metadata": {},
   "outputs": [],
   "source": [
    "# creating instance of labelencoder\n",
    "labelencoder = LabelEncoder()"
   ]
  },
  {
   "cell_type": "code",
   "execution_count": 57,
   "id": "7c04e9a0",
   "metadata": {},
   "outputs": [
    {
     "data": {
      "text/plain": [
       "Index(['index', 'Failed', 'ProductAreaName', 'InvNet (SUM)', 'Member Type',\n",
       "       'Member Join Date'],\n",
       "      dtype='object')"
      ]
     },
     "execution_count": 57,
     "metadata": {},
     "output_type": "execute_result"
    }
   ],
   "source": [
    "dc.columns"
   ]
  },
  {
   "cell_type": "code",
   "execution_count": 58,
   "id": "6b795ef1",
   "metadata": {
    "scrolled": false
   },
   "outputs": [
    {
     "data": {
      "text/html": [
       "<div>\n",
       "<style scoped>\n",
       "    .dataframe tbody tr th:only-of-type {\n",
       "        vertical-align: middle;\n",
       "    }\n",
       "\n",
       "    .dataframe tbody tr th {\n",
       "        vertical-align: top;\n",
       "    }\n",
       "\n",
       "    .dataframe thead th {\n",
       "        text-align: right;\n",
       "    }\n",
       "</style>\n",
       "<table border=\"1\" class=\"dataframe\">\n",
       "  <thead>\n",
       "    <tr style=\"text-align: right;\">\n",
       "      <th></th>\n",
       "      <th>index</th>\n",
       "      <th>Failed</th>\n",
       "      <th>ProductAreaName</th>\n",
       "      <th>InvNet (SUM)</th>\n",
       "      <th>Member Type</th>\n",
       "      <th>Member Join Date</th>\n",
       "    </tr>\n",
       "  </thead>\n",
       "  <tbody>\n",
       "    <tr>\n",
       "      <th>0</th>\n",
       "      <td>220069</td>\n",
       "      <td>1</td>\n",
       "      <td>Telecoms</td>\n",
       "      <td>60.27</td>\n",
       "      <td>34</td>\n",
       "      <td>2005-07-11</td>\n",
       "    </tr>\n",
       "    <tr>\n",
       "      <th>1</th>\n",
       "      <td>158236</td>\n",
       "      <td>1</td>\n",
       "      <td>Crop Protection</td>\n",
       "      <td>-240.00</td>\n",
       "      <td>16</td>\n",
       "      <td>2015-06-02</td>\n",
       "    </tr>\n",
       "    <tr>\n",
       "      <th>2</th>\n",
       "      <td>438543</td>\n",
       "      <td>1</td>\n",
       "      <td>Crop Protection</td>\n",
       "      <td>568.00</td>\n",
       "      <td>0</td>\n",
       "      <td>2006-03-07</td>\n",
       "    </tr>\n",
       "    <tr>\n",
       "      <th>3</th>\n",
       "      <td>129303</td>\n",
       "      <td>1</td>\n",
       "      <td>Feed &amp; Animal Health &amp; Vets Fees</td>\n",
       "      <td>19.20</td>\n",
       "      <td>16</td>\n",
       "      <td>1986-04-01</td>\n",
       "    </tr>\n",
       "    <tr>\n",
       "      <th>4</th>\n",
       "      <td>90797</td>\n",
       "      <td>1</td>\n",
       "      <td>Crop Protection</td>\n",
       "      <td>286.20</td>\n",
       "      <td>16</td>\n",
       "      <td>2006-07-01</td>\n",
       "    </tr>\n",
       "    <tr>\n",
       "      <th>...</th>\n",
       "      <td>...</td>\n",
       "      <td>...</td>\n",
       "      <td>...</td>\n",
       "      <td>...</td>\n",
       "      <td>...</td>\n",
       "      <td>...</td>\n",
       "    </tr>\n",
       "    <tr>\n",
       "      <th>149995</th>\n",
       "      <td>18842</td>\n",
       "      <td>1</td>\n",
       "      <td>LPG &amp; Solid Fuel</td>\n",
       "      <td>111.00</td>\n",
       "      <td>8</td>\n",
       "      <td>1992-05-06</td>\n",
       "    </tr>\n",
       "    <tr>\n",
       "      <th>149996</th>\n",
       "      <td>18118</td>\n",
       "      <td>1</td>\n",
       "      <td>Liquid Fuel</td>\n",
       "      <td>886.75</td>\n",
       "      <td>16</td>\n",
       "      <td>2010-11-02</td>\n",
       "    </tr>\n",
       "    <tr>\n",
       "      <th>149997</th>\n",
       "      <td>392506</td>\n",
       "      <td>1</td>\n",
       "      <td>Crop Protection</td>\n",
       "      <td>685.00</td>\n",
       "      <td>16</td>\n",
       "      <td>2006-07-01</td>\n",
       "    </tr>\n",
       "    <tr>\n",
       "      <th>149998</th>\n",
       "      <td>114155</td>\n",
       "      <td>1</td>\n",
       "      <td>Machinery</td>\n",
       "      <td>47.27</td>\n",
       "      <td>16</td>\n",
       "      <td>1990-01-01</td>\n",
       "    </tr>\n",
       "    <tr>\n",
       "      <th>149999</th>\n",
       "      <td>377231</td>\n",
       "      <td>1</td>\n",
       "      <td>Machinery</td>\n",
       "      <td>35.70</td>\n",
       "      <td>16</td>\n",
       "      <td>1988-10-11</td>\n",
       "    </tr>\n",
       "  </tbody>\n",
       "</table>\n",
       "<p>150000 rows × 6 columns</p>\n",
       "</div>"
      ],
      "text/plain": [
       "         index  Failed                   ProductAreaName  InvNet (SUM)  \\\n",
       "0       220069       1                          Telecoms         60.27   \n",
       "1       158236       1                   Crop Protection       -240.00   \n",
       "2       438543       1                   Crop Protection        568.00   \n",
       "3       129303       1  Feed & Animal Health & Vets Fees         19.20   \n",
       "4        90797       1                   Crop Protection        286.20   \n",
       "...        ...     ...                               ...           ...   \n",
       "149995   18842       1                  LPG & Solid Fuel        111.00   \n",
       "149996   18118       1                       Liquid Fuel        886.75   \n",
       "149997  392506       1                   Crop Protection        685.00   \n",
       "149998  114155       1                         Machinery         47.27   \n",
       "149999  377231       1                         Machinery         35.70   \n",
       "\n",
       "        Member Type Member Join Date  \n",
       "0                34       2005-07-11  \n",
       "1                16       2015-06-02  \n",
       "2                 0       2006-03-07  \n",
       "3                16       1986-04-01  \n",
       "4                16       2006-07-01  \n",
       "...             ...              ...  \n",
       "149995            8       1992-05-06  \n",
       "149996           16       2010-11-02  \n",
       "149997           16       2006-07-01  \n",
       "149998           16       1990-01-01  \n",
       "149999           16       1988-10-11  \n",
       "\n",
       "[150000 rows x 6 columns]"
      ]
     },
     "execution_count": 58,
     "metadata": {},
     "output_type": "execute_result"
    }
   ],
   "source": [
    "# Assigning numerical values and storing in another column\n",
    "dc['Member Type'] = labelencoder.fit_transform(dc['Member Type'])\n",
    "dc"
   ]
  },
  {
   "cell_type": "code",
   "execution_count": 31,
   "id": "6cdad867",
   "metadata": {},
   "outputs": [],
   "source": [
    "#dc['Member Type'].unique()"
   ]
  },
  {
   "cell_type": "code",
   "execution_count": 59,
   "id": "52bfc39a",
   "metadata": {},
   "outputs": [
    {
     "data": {
      "text/html": [
       "<div>\n",
       "<style scoped>\n",
       "    .dataframe tbody tr th:only-of-type {\n",
       "        vertical-align: middle;\n",
       "    }\n",
       "\n",
       "    .dataframe tbody tr th {\n",
       "        vertical-align: top;\n",
       "    }\n",
       "\n",
       "    .dataframe thead th {\n",
       "        text-align: right;\n",
       "    }\n",
       "</style>\n",
       "<table border=\"1\" class=\"dataframe\">\n",
       "  <thead>\n",
       "    <tr style=\"text-align: right;\">\n",
       "      <th></th>\n",
       "      <th>index</th>\n",
       "      <th>Failed</th>\n",
       "      <th>ProductAreaName</th>\n",
       "      <th>InvNet (SUM)</th>\n",
       "      <th>Member Type</th>\n",
       "      <th>Member Join Date</th>\n",
       "    </tr>\n",
       "  </thead>\n",
       "  <tbody>\n",
       "    <tr>\n",
       "      <th>0</th>\n",
       "      <td>220069</td>\n",
       "      <td>1</td>\n",
       "      <td>20</td>\n",
       "      <td>60.27</td>\n",
       "      <td>34</td>\n",
       "      <td>2005-07-11</td>\n",
       "    </tr>\n",
       "    <tr>\n",
       "      <th>1</th>\n",
       "      <td>158236</td>\n",
       "      <td>1</td>\n",
       "      <td>2</td>\n",
       "      <td>-240.00</td>\n",
       "      <td>16</td>\n",
       "      <td>2015-06-02</td>\n",
       "    </tr>\n",
       "    <tr>\n",
       "      <th>2</th>\n",
       "      <td>438543</td>\n",
       "      <td>1</td>\n",
       "      <td>2</td>\n",
       "      <td>568.00</td>\n",
       "      <td>0</td>\n",
       "      <td>2006-03-07</td>\n",
       "    </tr>\n",
       "    <tr>\n",
       "      <th>3</th>\n",
       "      <td>129303</td>\n",
       "      <td>1</td>\n",
       "      <td>3</td>\n",
       "      <td>19.20</td>\n",
       "      <td>16</td>\n",
       "      <td>1986-04-01</td>\n",
       "    </tr>\n",
       "    <tr>\n",
       "      <th>4</th>\n",
       "      <td>90797</td>\n",
       "      <td>1</td>\n",
       "      <td>2</td>\n",
       "      <td>286.20</td>\n",
       "      <td>16</td>\n",
       "      <td>2006-07-01</td>\n",
       "    </tr>\n",
       "    <tr>\n",
       "      <th>...</th>\n",
       "      <td>...</td>\n",
       "      <td>...</td>\n",
       "      <td>...</td>\n",
       "      <td>...</td>\n",
       "      <td>...</td>\n",
       "      <td>...</td>\n",
       "    </tr>\n",
       "    <tr>\n",
       "      <th>149995</th>\n",
       "      <td>18842</td>\n",
       "      <td>1</td>\n",
       "      <td>9</td>\n",
       "      <td>111.00</td>\n",
       "      <td>8</td>\n",
       "      <td>1992-05-06</td>\n",
       "    </tr>\n",
       "    <tr>\n",
       "      <th>149996</th>\n",
       "      <td>18118</td>\n",
       "      <td>1</td>\n",
       "      <td>10</td>\n",
       "      <td>886.75</td>\n",
       "      <td>16</td>\n",
       "      <td>2010-11-02</td>\n",
       "    </tr>\n",
       "    <tr>\n",
       "      <th>149997</th>\n",
       "      <td>392506</td>\n",
       "      <td>1</td>\n",
       "      <td>2</td>\n",
       "      <td>685.00</td>\n",
       "      <td>16</td>\n",
       "      <td>2006-07-01</td>\n",
       "    </tr>\n",
       "    <tr>\n",
       "      <th>149998</th>\n",
       "      <td>114155</td>\n",
       "      <td>1</td>\n",
       "      <td>13</td>\n",
       "      <td>47.27</td>\n",
       "      <td>16</td>\n",
       "      <td>1990-01-01</td>\n",
       "    </tr>\n",
       "    <tr>\n",
       "      <th>149999</th>\n",
       "      <td>377231</td>\n",
       "      <td>1</td>\n",
       "      <td>13</td>\n",
       "      <td>35.70</td>\n",
       "      <td>16</td>\n",
       "      <td>1988-10-11</td>\n",
       "    </tr>\n",
       "  </tbody>\n",
       "</table>\n",
       "<p>150000 rows × 6 columns</p>\n",
       "</div>"
      ],
      "text/plain": [
       "         index  Failed  ProductAreaName  InvNet (SUM)  Member Type  \\\n",
       "0       220069       1               20         60.27           34   \n",
       "1       158236       1                2       -240.00           16   \n",
       "2       438543       1                2        568.00            0   \n",
       "3       129303       1                3         19.20           16   \n",
       "4        90797       1                2        286.20           16   \n",
       "...        ...     ...              ...           ...          ...   \n",
       "149995   18842       1                9        111.00            8   \n",
       "149996   18118       1               10        886.75           16   \n",
       "149997  392506       1                2        685.00           16   \n",
       "149998  114155       1               13         47.27           16   \n",
       "149999  377231       1               13         35.70           16   \n",
       "\n",
       "       Member Join Date  \n",
       "0            2005-07-11  \n",
       "1            2015-06-02  \n",
       "2            2006-03-07  \n",
       "3            1986-04-01  \n",
       "4            2006-07-01  \n",
       "...                 ...  \n",
       "149995       1992-05-06  \n",
       "149996       2010-11-02  \n",
       "149997       2006-07-01  \n",
       "149998       1990-01-01  \n",
       "149999       1988-10-11  \n",
       "\n",
       "[150000 rows x 6 columns]"
      ]
     },
     "execution_count": 59,
     "metadata": {},
     "output_type": "execute_result"
    }
   ],
   "source": [
    "# Assigning numerical values and storing in another column\n",
    "dc['ProductAreaName'] = labelencoder.fit_transform(dc['ProductAreaName'])\n",
    "dc"
   ]
  },
  {
   "cell_type": "code",
   "execution_count": null,
   "id": "74df6f3e",
   "metadata": {},
   "outputs": [],
   "source": []
  },
  {
   "cell_type": "code",
   "execution_count": null,
   "id": "930956d1",
   "metadata": {},
   "outputs": [],
   "source": []
  },
  {
   "cell_type": "code",
   "execution_count": 60,
   "id": "2f9bcff7",
   "metadata": {
    "scrolled": true
   },
   "outputs": [
    {
     "data": {
      "text/plain": [
       "array([20,  2,  3, 16, 10,  6, 13,  8, 15, 14,  4,  0,  5,  9, 12, 19, 18,\n",
       "        1,  7, 11, 17, 21])"
      ]
     },
     "execution_count": 60,
     "metadata": {},
     "output_type": "execute_result"
    }
   ],
   "source": [
    "dc['ProductAreaName'].unique()"
   ]
  },
  {
   "cell_type": "code",
   "execution_count": 61,
   "id": "fa0a62f5",
   "metadata": {},
   "outputs": [
    {
     "data": {
      "text/plain": [
       "array([34, 16,  0,  8, 40, 24,  3, 35, 46, 17, 37, 47, 19,  1,  6, 18, 13,\n",
       "       11, 33, 20, 28,  2, 45, 10, 41, 14, 26, 39, 25,  9, 31,  7, 22,  5,\n",
       "       38, 27, 42, 15, 43, 12, 30,  4, 23, 32, 44, 29, 36, 21])"
      ]
     },
     "execution_count": 61,
     "metadata": {},
     "output_type": "execute_result"
    }
   ],
   "source": [
    "dc['Member Type'].unique()"
   ]
  },
  {
   "cell_type": "code",
   "execution_count": 62,
   "id": "78fd3039",
   "metadata": {},
   "outputs": [],
   "source": [
    "dc['year of joning']=pd.to_datetime(dc[\"Member Join Date\"], format=\"%d/%m/%Y\").dt.year\n",
    "dc['month of joining']=pd.to_datetime(dc[\"Member Join Date\"], format=\"%d/%m/%Y\").dt.month\n",
    "dc['day of joining']=pd.to_datetime(dc[\"Member Join Date\"], format=\"%d/%m/%Y\").dt.day\n",
    "#the following code gives the year , month and day variable of the data"
   ]
  },
  {
   "cell_type": "code",
   "execution_count": 63,
   "id": "4de3a38f",
   "metadata": {},
   "outputs": [],
   "source": [
    "dc.drop(['index','Member Join Date'],axis=1,inplace=True)"
   ]
  },
  {
   "cell_type": "code",
   "execution_count": 64,
   "id": "3044f64f",
   "metadata": {},
   "outputs": [
    {
     "data": {
      "text/plain": [
       "(150000, 7)"
      ]
     },
     "execution_count": 64,
     "metadata": {},
     "output_type": "execute_result"
    }
   ],
   "source": [
    "dc.shape"
   ]
  },
  {
   "cell_type": "code",
   "execution_count": 65,
   "id": "c149e843",
   "metadata": {},
   "outputs": [
    {
     "data": {
      "application/vnd.plotly.v1+json": {
       "config": {
        "plotlyServerURL": "https://plot.ly"
       },
       "data": [
        {
         "coloraxis": "coloraxis",
         "hovertemplate": "x: %{x}<br>y: %{y}<br>color: %{z}<extra></extra>",
         "name": "0",
         "type": "heatmap",
         "x": [
          "Failed",
          "ProductAreaName",
          "InvNet (SUM)",
          "Member Type",
          "year of joning",
          "month of joining",
          "day of joining"
         ],
         "xaxis": "x",
         "y": [
          "Failed",
          "ProductAreaName",
          "InvNet (SUM)",
          "Member Type",
          "year of joning",
          "month of joining",
          "day of joining"
         ],
         "yaxis": "y",
         "z": [
          [
           1,
           0.009766134061222767,
           0.005393164665307034,
           0.018661627684755825,
           -0.014764896518704924,
           -0.0128567010718416,
           0.007989559230570764
          ],
          [
           0.009766134061222767,
           1,
           -0.07376578945255735,
           0.025040571416100724,
           0.0043486119024233405,
           -0.00890639989418165,
           0.02263293272572777
          ],
          [
           0.005393164665307034,
           -0.07376578945255735,
           1,
           0.020597503073772245,
           0.0162562040586319,
           0.00011957573747382915,
           -0.01776303460714665
          ],
          [
           0.018661627684755825,
           0.025040571416100724,
           0.020597503073772245,
           1,
           -0.05919192126173627,
           -0.01955133859774611,
           0.043799520196317505
          ],
          [
           -0.014764896518704924,
           0.0043486119024233405,
           0.0162562040586319,
           -0.05919192126173627,
           1,
           0.04777024892488764,
           -0.20215840462572726
          ],
          [
           -0.0128567010718416,
           -0.00890639989418165,
           0.00011957573747382915,
           -0.01955133859774611,
           0.04777024892488764,
           1,
           0.08416016486276666
          ],
          [
           0.007989559230570764,
           0.02263293272572777,
           -0.01776303460714665,
           0.043799520196317505,
           -0.20215840462572726,
           0.08416016486276666,
           1
          ]
         ]
        }
       ],
       "layout": {
        "coloraxis": {
         "colorscale": [
          [
           0,
           "#0d0887"
          ],
          [
           0.1111111111111111,
           "#46039f"
          ],
          [
           0.2222222222222222,
           "#7201a8"
          ],
          [
           0.3333333333333333,
           "#9c179e"
          ],
          [
           0.4444444444444444,
           "#bd3786"
          ],
          [
           0.5555555555555556,
           "#d8576b"
          ],
          [
           0.6666666666666666,
           "#ed7953"
          ],
          [
           0.7777777777777778,
           "#fb9f3a"
          ],
          [
           0.8888888888888888,
           "#fdca26"
          ],
          [
           1,
           "#f0f921"
          ]
         ]
        },
        "height": 1000,
        "margin": {
         "t": 60
        },
        "template": {
         "data": {
          "bar": [
           {
            "error_x": {
             "color": "#2a3f5f"
            },
            "error_y": {
             "color": "#2a3f5f"
            },
            "marker": {
             "line": {
              "color": "#E5ECF6",
              "width": 0.5
             },
             "pattern": {
              "fillmode": "overlay",
              "size": 10,
              "solidity": 0.2
             }
            },
            "type": "bar"
           }
          ],
          "barpolar": [
           {
            "marker": {
             "line": {
              "color": "#E5ECF6",
              "width": 0.5
             },
             "pattern": {
              "fillmode": "overlay",
              "size": 10,
              "solidity": 0.2
             }
            },
            "type": "barpolar"
           }
          ],
          "carpet": [
           {
            "aaxis": {
             "endlinecolor": "#2a3f5f",
             "gridcolor": "white",
             "linecolor": "white",
             "minorgridcolor": "white",
             "startlinecolor": "#2a3f5f"
            },
            "baxis": {
             "endlinecolor": "#2a3f5f",
             "gridcolor": "white",
             "linecolor": "white",
             "minorgridcolor": "white",
             "startlinecolor": "#2a3f5f"
            },
            "type": "carpet"
           }
          ],
          "choropleth": [
           {
            "colorbar": {
             "outlinewidth": 0,
             "ticks": ""
            },
            "type": "choropleth"
           }
          ],
          "contour": [
           {
            "colorbar": {
             "outlinewidth": 0,
             "ticks": ""
            },
            "colorscale": [
             [
              0,
              "#0d0887"
             ],
             [
              0.1111111111111111,
              "#46039f"
             ],
             [
              0.2222222222222222,
              "#7201a8"
             ],
             [
              0.3333333333333333,
              "#9c179e"
             ],
             [
              0.4444444444444444,
              "#bd3786"
             ],
             [
              0.5555555555555556,
              "#d8576b"
             ],
             [
              0.6666666666666666,
              "#ed7953"
             ],
             [
              0.7777777777777778,
              "#fb9f3a"
             ],
             [
              0.8888888888888888,
              "#fdca26"
             ],
             [
              1,
              "#f0f921"
             ]
            ],
            "type": "contour"
           }
          ],
          "contourcarpet": [
           {
            "colorbar": {
             "outlinewidth": 0,
             "ticks": ""
            },
            "type": "contourcarpet"
           }
          ],
          "heatmap": [
           {
            "colorbar": {
             "outlinewidth": 0,
             "ticks": ""
            },
            "colorscale": [
             [
              0,
              "#0d0887"
             ],
             [
              0.1111111111111111,
              "#46039f"
             ],
             [
              0.2222222222222222,
              "#7201a8"
             ],
             [
              0.3333333333333333,
              "#9c179e"
             ],
             [
              0.4444444444444444,
              "#bd3786"
             ],
             [
              0.5555555555555556,
              "#d8576b"
             ],
             [
              0.6666666666666666,
              "#ed7953"
             ],
             [
              0.7777777777777778,
              "#fb9f3a"
             ],
             [
              0.8888888888888888,
              "#fdca26"
             ],
             [
              1,
              "#f0f921"
             ]
            ],
            "type": "heatmap"
           }
          ],
          "heatmapgl": [
           {
            "colorbar": {
             "outlinewidth": 0,
             "ticks": ""
            },
            "colorscale": [
             [
              0,
              "#0d0887"
             ],
             [
              0.1111111111111111,
              "#46039f"
             ],
             [
              0.2222222222222222,
              "#7201a8"
             ],
             [
              0.3333333333333333,
              "#9c179e"
             ],
             [
              0.4444444444444444,
              "#bd3786"
             ],
             [
              0.5555555555555556,
              "#d8576b"
             ],
             [
              0.6666666666666666,
              "#ed7953"
             ],
             [
              0.7777777777777778,
              "#fb9f3a"
             ],
             [
              0.8888888888888888,
              "#fdca26"
             ],
             [
              1,
              "#f0f921"
             ]
            ],
            "type": "heatmapgl"
           }
          ],
          "histogram": [
           {
            "marker": {
             "pattern": {
              "fillmode": "overlay",
              "size": 10,
              "solidity": 0.2
             }
            },
            "type": "histogram"
           }
          ],
          "histogram2d": [
           {
            "colorbar": {
             "outlinewidth": 0,
             "ticks": ""
            },
            "colorscale": [
             [
              0,
              "#0d0887"
             ],
             [
              0.1111111111111111,
              "#46039f"
             ],
             [
              0.2222222222222222,
              "#7201a8"
             ],
             [
              0.3333333333333333,
              "#9c179e"
             ],
             [
              0.4444444444444444,
              "#bd3786"
             ],
             [
              0.5555555555555556,
              "#d8576b"
             ],
             [
              0.6666666666666666,
              "#ed7953"
             ],
             [
              0.7777777777777778,
              "#fb9f3a"
             ],
             [
              0.8888888888888888,
              "#fdca26"
             ],
             [
              1,
              "#f0f921"
             ]
            ],
            "type": "histogram2d"
           }
          ],
          "histogram2dcontour": [
           {
            "colorbar": {
             "outlinewidth": 0,
             "ticks": ""
            },
            "colorscale": [
             [
              0,
              "#0d0887"
             ],
             [
              0.1111111111111111,
              "#46039f"
             ],
             [
              0.2222222222222222,
              "#7201a8"
             ],
             [
              0.3333333333333333,
              "#9c179e"
             ],
             [
              0.4444444444444444,
              "#bd3786"
             ],
             [
              0.5555555555555556,
              "#d8576b"
             ],
             [
              0.6666666666666666,
              "#ed7953"
             ],
             [
              0.7777777777777778,
              "#fb9f3a"
             ],
             [
              0.8888888888888888,
              "#fdca26"
             ],
             [
              1,
              "#f0f921"
             ]
            ],
            "type": "histogram2dcontour"
           }
          ],
          "mesh3d": [
           {
            "colorbar": {
             "outlinewidth": 0,
             "ticks": ""
            },
            "type": "mesh3d"
           }
          ],
          "parcoords": [
           {
            "line": {
             "colorbar": {
              "outlinewidth": 0,
              "ticks": ""
             }
            },
            "type": "parcoords"
           }
          ],
          "pie": [
           {
            "automargin": true,
            "type": "pie"
           }
          ],
          "scatter": [
           {
            "fillpattern": {
             "fillmode": "overlay",
             "size": 10,
             "solidity": 0.2
            },
            "type": "scatter"
           }
          ],
          "scatter3d": [
           {
            "line": {
             "colorbar": {
              "outlinewidth": 0,
              "ticks": ""
             }
            },
            "marker": {
             "colorbar": {
              "outlinewidth": 0,
              "ticks": ""
             }
            },
            "type": "scatter3d"
           }
          ],
          "scattercarpet": [
           {
            "marker": {
             "colorbar": {
              "outlinewidth": 0,
              "ticks": ""
             }
            },
            "type": "scattercarpet"
           }
          ],
          "scattergeo": [
           {
            "marker": {
             "colorbar": {
              "outlinewidth": 0,
              "ticks": ""
             }
            },
            "type": "scattergeo"
           }
          ],
          "scattergl": [
           {
            "marker": {
             "colorbar": {
              "outlinewidth": 0,
              "ticks": ""
             }
            },
            "type": "scattergl"
           }
          ],
          "scattermapbox": [
           {
            "marker": {
             "colorbar": {
              "outlinewidth": 0,
              "ticks": ""
             }
            },
            "type": "scattermapbox"
           }
          ],
          "scatterpolar": [
           {
            "marker": {
             "colorbar": {
              "outlinewidth": 0,
              "ticks": ""
             }
            },
            "type": "scatterpolar"
           }
          ],
          "scatterpolargl": [
           {
            "marker": {
             "colorbar": {
              "outlinewidth": 0,
              "ticks": ""
             }
            },
            "type": "scatterpolargl"
           }
          ],
          "scatterternary": [
           {
            "marker": {
             "colorbar": {
              "outlinewidth": 0,
              "ticks": ""
             }
            },
            "type": "scatterternary"
           }
          ],
          "surface": [
           {
            "colorbar": {
             "outlinewidth": 0,
             "ticks": ""
            },
            "colorscale": [
             [
              0,
              "#0d0887"
             ],
             [
              0.1111111111111111,
              "#46039f"
             ],
             [
              0.2222222222222222,
              "#7201a8"
             ],
             [
              0.3333333333333333,
              "#9c179e"
             ],
             [
              0.4444444444444444,
              "#bd3786"
             ],
             [
              0.5555555555555556,
              "#d8576b"
             ],
             [
              0.6666666666666666,
              "#ed7953"
             ],
             [
              0.7777777777777778,
              "#fb9f3a"
             ],
             [
              0.8888888888888888,
              "#fdca26"
             ],
             [
              1,
              "#f0f921"
             ]
            ],
            "type": "surface"
           }
          ],
          "table": [
           {
            "cells": {
             "fill": {
              "color": "#EBF0F8"
             },
             "line": {
              "color": "white"
             }
            },
            "header": {
             "fill": {
              "color": "#C8D4E3"
             },
             "line": {
              "color": "white"
             }
            },
            "type": "table"
           }
          ]
         },
         "layout": {
          "annotationdefaults": {
           "arrowcolor": "#2a3f5f",
           "arrowhead": 0,
           "arrowwidth": 1
          },
          "autotypenumbers": "strict",
          "coloraxis": {
           "colorbar": {
            "outlinewidth": 0,
            "ticks": ""
           }
          },
          "colorscale": {
           "diverging": [
            [
             0,
             "#8e0152"
            ],
            [
             0.1,
             "#c51b7d"
            ],
            [
             0.2,
             "#de77ae"
            ],
            [
             0.3,
             "#f1b6da"
            ],
            [
             0.4,
             "#fde0ef"
            ],
            [
             0.5,
             "#f7f7f7"
            ],
            [
             0.6,
             "#e6f5d0"
            ],
            [
             0.7,
             "#b8e186"
            ],
            [
             0.8,
             "#7fbc41"
            ],
            [
             0.9,
             "#4d9221"
            ],
            [
             1,
             "#276419"
            ]
           ],
           "sequential": [
            [
             0,
             "#0d0887"
            ],
            [
             0.1111111111111111,
             "#46039f"
            ],
            [
             0.2222222222222222,
             "#7201a8"
            ],
            [
             0.3333333333333333,
             "#9c179e"
            ],
            [
             0.4444444444444444,
             "#bd3786"
            ],
            [
             0.5555555555555556,
             "#d8576b"
            ],
            [
             0.6666666666666666,
             "#ed7953"
            ],
            [
             0.7777777777777778,
             "#fb9f3a"
            ],
            [
             0.8888888888888888,
             "#fdca26"
            ],
            [
             1,
             "#f0f921"
            ]
           ],
           "sequentialminus": [
            [
             0,
             "#0d0887"
            ],
            [
             0.1111111111111111,
             "#46039f"
            ],
            [
             0.2222222222222222,
             "#7201a8"
            ],
            [
             0.3333333333333333,
             "#9c179e"
            ],
            [
             0.4444444444444444,
             "#bd3786"
            ],
            [
             0.5555555555555556,
             "#d8576b"
            ],
            [
             0.6666666666666666,
             "#ed7953"
            ],
            [
             0.7777777777777778,
             "#fb9f3a"
            ],
            [
             0.8888888888888888,
             "#fdca26"
            ],
            [
             1,
             "#f0f921"
            ]
           ]
          },
          "colorway": [
           "#636efa",
           "#EF553B",
           "#00cc96",
           "#ab63fa",
           "#FFA15A",
           "#19d3f3",
           "#FF6692",
           "#B6E880",
           "#FF97FF",
           "#FECB52"
          ],
          "font": {
           "color": "#2a3f5f"
          },
          "geo": {
           "bgcolor": "white",
           "lakecolor": "white",
           "landcolor": "#E5ECF6",
           "showlakes": true,
           "showland": true,
           "subunitcolor": "white"
          },
          "hoverlabel": {
           "align": "left"
          },
          "hovermode": "closest",
          "mapbox": {
           "style": "light"
          },
          "paper_bgcolor": "white",
          "plot_bgcolor": "#E5ECF6",
          "polar": {
           "angularaxis": {
            "gridcolor": "white",
            "linecolor": "white",
            "ticks": ""
           },
           "bgcolor": "#E5ECF6",
           "radialaxis": {
            "gridcolor": "white",
            "linecolor": "white",
            "ticks": ""
           }
          },
          "scene": {
           "xaxis": {
            "backgroundcolor": "#E5ECF6",
            "gridcolor": "white",
            "gridwidth": 2,
            "linecolor": "white",
            "showbackground": true,
            "ticks": "",
            "zerolinecolor": "white"
           },
           "yaxis": {
            "backgroundcolor": "#E5ECF6",
            "gridcolor": "white",
            "gridwidth": 2,
            "linecolor": "white",
            "showbackground": true,
            "ticks": "",
            "zerolinecolor": "white"
           },
           "zaxis": {
            "backgroundcolor": "#E5ECF6",
            "gridcolor": "white",
            "gridwidth": 2,
            "linecolor": "white",
            "showbackground": true,
            "ticks": "",
            "zerolinecolor": "white"
           }
          },
          "shapedefaults": {
           "line": {
            "color": "#2a3f5f"
           }
          },
          "ternary": {
           "aaxis": {
            "gridcolor": "white",
            "linecolor": "white",
            "ticks": ""
           },
           "baxis": {
            "gridcolor": "white",
            "linecolor": "white",
            "ticks": ""
           },
           "bgcolor": "#E5ECF6",
           "caxis": {
            "gridcolor": "white",
            "linecolor": "white",
            "ticks": ""
           }
          },
          "title": {
           "x": 0.05
          },
          "xaxis": {
           "automargin": true,
           "gridcolor": "white",
           "linecolor": "white",
           "ticks": "",
           "title": {
            "standoff": 15
           },
           "zerolinecolor": "white",
           "zerolinewidth": 2
          },
          "yaxis": {
           "automargin": true,
           "gridcolor": "white",
           "linecolor": "white",
           "ticks": "",
           "title": {
            "standoff": 15
           },
           "zerolinecolor": "white",
           "zerolinewidth": 2
          }
         }
        },
        "width": 1000,
        "xaxis": {
         "anchor": "y",
         "constrain": "domain",
         "domain": [
          0,
          1
         ],
         "scaleanchor": "y"
        },
        "yaxis": {
         "anchor": "x",
         "autorange": "reversed",
         "constrain": "domain",
         "domain": [
          0,
          1
         ]
        }
       }
      },
      "text/html": [
       "<div>                            <div id=\"9da73d66-c42b-42f1-ad9a-55a37bf3f559\" class=\"plotly-graph-div\" style=\"height:1000px; width:1000px;\"></div>            <script type=\"text/javascript\">                require([\"plotly\"], function(Plotly) {                    window.PLOTLYENV=window.PLOTLYENV || {};                                    if (document.getElementById(\"9da73d66-c42b-42f1-ad9a-55a37bf3f559\")) {                    Plotly.newPlot(                        \"9da73d66-c42b-42f1-ad9a-55a37bf3f559\",                        [{\"coloraxis\":\"coloraxis\",\"name\":\"0\",\"x\":[\"Failed\",\"ProductAreaName\",\"InvNet (SUM)\",\"Member Type\",\"year of joning\",\"month of joining\",\"day of joining\"],\"y\":[\"Failed\",\"ProductAreaName\",\"InvNet (SUM)\",\"Member Type\",\"year of joning\",\"month of joining\",\"day of joining\"],\"z\":[[1.0,0.009766134061222767,0.005393164665307034,0.018661627684755825,-0.014764896518704924,-0.0128567010718416,0.007989559230570764],[0.009766134061222767,1.0,-0.07376578945255735,0.025040571416100724,0.0043486119024233405,-0.00890639989418165,0.02263293272572777],[0.005393164665307034,-0.07376578945255735,1.0,0.020597503073772245,0.0162562040586319,0.00011957573747382915,-0.01776303460714665],[0.018661627684755825,0.025040571416100724,0.020597503073772245,1.0,-0.05919192126173627,-0.01955133859774611,0.043799520196317505],[-0.014764896518704924,0.0043486119024233405,0.0162562040586319,-0.05919192126173627,1.0,0.04777024892488764,-0.20215840462572726],[-0.0128567010718416,-0.00890639989418165,0.00011957573747382915,-0.01955133859774611,0.04777024892488764,1.0,0.08416016486276666],[0.007989559230570764,0.02263293272572777,-0.01776303460714665,0.043799520196317505,-0.20215840462572726,0.08416016486276666,1.0]],\"type\":\"heatmap\",\"xaxis\":\"x\",\"yaxis\":\"y\",\"hovertemplate\":\"x: %{x}<br>y: %{y}<br>color: %{z}<extra></extra>\"}],                        {\"template\":{\"data\":{\"histogram2dcontour\":[{\"type\":\"histogram2dcontour\",\"colorbar\":{\"outlinewidth\":0,\"ticks\":\"\"},\"colorscale\":[[0.0,\"#0d0887\"],[0.1111111111111111,\"#46039f\"],[0.2222222222222222,\"#7201a8\"],[0.3333333333333333,\"#9c179e\"],[0.4444444444444444,\"#bd3786\"],[0.5555555555555556,\"#d8576b\"],[0.6666666666666666,\"#ed7953\"],[0.7777777777777778,\"#fb9f3a\"],[0.8888888888888888,\"#fdca26\"],[1.0,\"#f0f921\"]]}],\"choropleth\":[{\"type\":\"choropleth\",\"colorbar\":{\"outlinewidth\":0,\"ticks\":\"\"}}],\"histogram2d\":[{\"type\":\"histogram2d\",\"colorbar\":{\"outlinewidth\":0,\"ticks\":\"\"},\"colorscale\":[[0.0,\"#0d0887\"],[0.1111111111111111,\"#46039f\"],[0.2222222222222222,\"#7201a8\"],[0.3333333333333333,\"#9c179e\"],[0.4444444444444444,\"#bd3786\"],[0.5555555555555556,\"#d8576b\"],[0.6666666666666666,\"#ed7953\"],[0.7777777777777778,\"#fb9f3a\"],[0.8888888888888888,\"#fdca26\"],[1.0,\"#f0f921\"]]}],\"heatmap\":[{\"type\":\"heatmap\",\"colorbar\":{\"outlinewidth\":0,\"ticks\":\"\"},\"colorscale\":[[0.0,\"#0d0887\"],[0.1111111111111111,\"#46039f\"],[0.2222222222222222,\"#7201a8\"],[0.3333333333333333,\"#9c179e\"],[0.4444444444444444,\"#bd3786\"],[0.5555555555555556,\"#d8576b\"],[0.6666666666666666,\"#ed7953\"],[0.7777777777777778,\"#fb9f3a\"],[0.8888888888888888,\"#fdca26\"],[1.0,\"#f0f921\"]]}],\"heatmapgl\":[{\"type\":\"heatmapgl\",\"colorbar\":{\"outlinewidth\":0,\"ticks\":\"\"},\"colorscale\":[[0.0,\"#0d0887\"],[0.1111111111111111,\"#46039f\"],[0.2222222222222222,\"#7201a8\"],[0.3333333333333333,\"#9c179e\"],[0.4444444444444444,\"#bd3786\"],[0.5555555555555556,\"#d8576b\"],[0.6666666666666666,\"#ed7953\"],[0.7777777777777778,\"#fb9f3a\"],[0.8888888888888888,\"#fdca26\"],[1.0,\"#f0f921\"]]}],\"contourcarpet\":[{\"type\":\"contourcarpet\",\"colorbar\":{\"outlinewidth\":0,\"ticks\":\"\"}}],\"contour\":[{\"type\":\"contour\",\"colorbar\":{\"outlinewidth\":0,\"ticks\":\"\"},\"colorscale\":[[0.0,\"#0d0887\"],[0.1111111111111111,\"#46039f\"],[0.2222222222222222,\"#7201a8\"],[0.3333333333333333,\"#9c179e\"],[0.4444444444444444,\"#bd3786\"],[0.5555555555555556,\"#d8576b\"],[0.6666666666666666,\"#ed7953\"],[0.7777777777777778,\"#fb9f3a\"],[0.8888888888888888,\"#fdca26\"],[1.0,\"#f0f921\"]]}],\"surface\":[{\"type\":\"surface\",\"colorbar\":{\"outlinewidth\":0,\"ticks\":\"\"},\"colorscale\":[[0.0,\"#0d0887\"],[0.1111111111111111,\"#46039f\"],[0.2222222222222222,\"#7201a8\"],[0.3333333333333333,\"#9c179e\"],[0.4444444444444444,\"#bd3786\"],[0.5555555555555556,\"#d8576b\"],[0.6666666666666666,\"#ed7953\"],[0.7777777777777778,\"#fb9f3a\"],[0.8888888888888888,\"#fdca26\"],[1.0,\"#f0f921\"]]}],\"mesh3d\":[{\"type\":\"mesh3d\",\"colorbar\":{\"outlinewidth\":0,\"ticks\":\"\"}}],\"scatter\":[{\"fillpattern\":{\"fillmode\":\"overlay\",\"size\":10,\"solidity\":0.2},\"type\":\"scatter\"}],\"parcoords\":[{\"type\":\"parcoords\",\"line\":{\"colorbar\":{\"outlinewidth\":0,\"ticks\":\"\"}}}],\"scatterpolargl\":[{\"type\":\"scatterpolargl\",\"marker\":{\"colorbar\":{\"outlinewidth\":0,\"ticks\":\"\"}}}],\"bar\":[{\"error_x\":{\"color\":\"#2a3f5f\"},\"error_y\":{\"color\":\"#2a3f5f\"},\"marker\":{\"line\":{\"color\":\"#E5ECF6\",\"width\":0.5},\"pattern\":{\"fillmode\":\"overlay\",\"size\":10,\"solidity\":0.2}},\"type\":\"bar\"}],\"scattergeo\":[{\"type\":\"scattergeo\",\"marker\":{\"colorbar\":{\"outlinewidth\":0,\"ticks\":\"\"}}}],\"scatterpolar\":[{\"type\":\"scatterpolar\",\"marker\":{\"colorbar\":{\"outlinewidth\":0,\"ticks\":\"\"}}}],\"histogram\":[{\"marker\":{\"pattern\":{\"fillmode\":\"overlay\",\"size\":10,\"solidity\":0.2}},\"type\":\"histogram\"}],\"scattergl\":[{\"type\":\"scattergl\",\"marker\":{\"colorbar\":{\"outlinewidth\":0,\"ticks\":\"\"}}}],\"scatter3d\":[{\"type\":\"scatter3d\",\"line\":{\"colorbar\":{\"outlinewidth\":0,\"ticks\":\"\"}},\"marker\":{\"colorbar\":{\"outlinewidth\":0,\"ticks\":\"\"}}}],\"scattermapbox\":[{\"type\":\"scattermapbox\",\"marker\":{\"colorbar\":{\"outlinewidth\":0,\"ticks\":\"\"}}}],\"scatterternary\":[{\"type\":\"scatterternary\",\"marker\":{\"colorbar\":{\"outlinewidth\":0,\"ticks\":\"\"}}}],\"scattercarpet\":[{\"type\":\"scattercarpet\",\"marker\":{\"colorbar\":{\"outlinewidth\":0,\"ticks\":\"\"}}}],\"carpet\":[{\"aaxis\":{\"endlinecolor\":\"#2a3f5f\",\"gridcolor\":\"white\",\"linecolor\":\"white\",\"minorgridcolor\":\"white\",\"startlinecolor\":\"#2a3f5f\"},\"baxis\":{\"endlinecolor\":\"#2a3f5f\",\"gridcolor\":\"white\",\"linecolor\":\"white\",\"minorgridcolor\":\"white\",\"startlinecolor\":\"#2a3f5f\"},\"type\":\"carpet\"}],\"table\":[{\"cells\":{\"fill\":{\"color\":\"#EBF0F8\"},\"line\":{\"color\":\"white\"}},\"header\":{\"fill\":{\"color\":\"#C8D4E3\"},\"line\":{\"color\":\"white\"}},\"type\":\"table\"}],\"barpolar\":[{\"marker\":{\"line\":{\"color\":\"#E5ECF6\",\"width\":0.5},\"pattern\":{\"fillmode\":\"overlay\",\"size\":10,\"solidity\":0.2}},\"type\":\"barpolar\"}],\"pie\":[{\"automargin\":true,\"type\":\"pie\"}]},\"layout\":{\"autotypenumbers\":\"strict\",\"colorway\":[\"#636efa\",\"#EF553B\",\"#00cc96\",\"#ab63fa\",\"#FFA15A\",\"#19d3f3\",\"#FF6692\",\"#B6E880\",\"#FF97FF\",\"#FECB52\"],\"font\":{\"color\":\"#2a3f5f\"},\"hovermode\":\"closest\",\"hoverlabel\":{\"align\":\"left\"},\"paper_bgcolor\":\"white\",\"plot_bgcolor\":\"#E5ECF6\",\"polar\":{\"bgcolor\":\"#E5ECF6\",\"angularaxis\":{\"gridcolor\":\"white\",\"linecolor\":\"white\",\"ticks\":\"\"},\"radialaxis\":{\"gridcolor\":\"white\",\"linecolor\":\"white\",\"ticks\":\"\"}},\"ternary\":{\"bgcolor\":\"#E5ECF6\",\"aaxis\":{\"gridcolor\":\"white\",\"linecolor\":\"white\",\"ticks\":\"\"},\"baxis\":{\"gridcolor\":\"white\",\"linecolor\":\"white\",\"ticks\":\"\"},\"caxis\":{\"gridcolor\":\"white\",\"linecolor\":\"white\",\"ticks\":\"\"}},\"coloraxis\":{\"colorbar\":{\"outlinewidth\":0,\"ticks\":\"\"}},\"colorscale\":{\"sequential\":[[0.0,\"#0d0887\"],[0.1111111111111111,\"#46039f\"],[0.2222222222222222,\"#7201a8\"],[0.3333333333333333,\"#9c179e\"],[0.4444444444444444,\"#bd3786\"],[0.5555555555555556,\"#d8576b\"],[0.6666666666666666,\"#ed7953\"],[0.7777777777777778,\"#fb9f3a\"],[0.8888888888888888,\"#fdca26\"],[1.0,\"#f0f921\"]],\"sequentialminus\":[[0.0,\"#0d0887\"],[0.1111111111111111,\"#46039f\"],[0.2222222222222222,\"#7201a8\"],[0.3333333333333333,\"#9c179e\"],[0.4444444444444444,\"#bd3786\"],[0.5555555555555556,\"#d8576b\"],[0.6666666666666666,\"#ed7953\"],[0.7777777777777778,\"#fb9f3a\"],[0.8888888888888888,\"#fdca26\"],[1.0,\"#f0f921\"]],\"diverging\":[[0,\"#8e0152\"],[0.1,\"#c51b7d\"],[0.2,\"#de77ae\"],[0.3,\"#f1b6da\"],[0.4,\"#fde0ef\"],[0.5,\"#f7f7f7\"],[0.6,\"#e6f5d0\"],[0.7,\"#b8e186\"],[0.8,\"#7fbc41\"],[0.9,\"#4d9221\"],[1,\"#276419\"]]},\"xaxis\":{\"gridcolor\":\"white\",\"linecolor\":\"white\",\"ticks\":\"\",\"title\":{\"standoff\":15},\"zerolinecolor\":\"white\",\"automargin\":true,\"zerolinewidth\":2},\"yaxis\":{\"gridcolor\":\"white\",\"linecolor\":\"white\",\"ticks\":\"\",\"title\":{\"standoff\":15},\"zerolinecolor\":\"white\",\"automargin\":true,\"zerolinewidth\":2},\"scene\":{\"xaxis\":{\"backgroundcolor\":\"#E5ECF6\",\"gridcolor\":\"white\",\"linecolor\":\"white\",\"showbackground\":true,\"ticks\":\"\",\"zerolinecolor\":\"white\",\"gridwidth\":2},\"yaxis\":{\"backgroundcolor\":\"#E5ECF6\",\"gridcolor\":\"white\",\"linecolor\":\"white\",\"showbackground\":true,\"ticks\":\"\",\"zerolinecolor\":\"white\",\"gridwidth\":2},\"zaxis\":{\"backgroundcolor\":\"#E5ECF6\",\"gridcolor\":\"white\",\"linecolor\":\"white\",\"showbackground\":true,\"ticks\":\"\",\"zerolinecolor\":\"white\",\"gridwidth\":2}},\"shapedefaults\":{\"line\":{\"color\":\"#2a3f5f\"}},\"annotationdefaults\":{\"arrowcolor\":\"#2a3f5f\",\"arrowhead\":0,\"arrowwidth\":1},\"geo\":{\"bgcolor\":\"white\",\"landcolor\":\"#E5ECF6\",\"subunitcolor\":\"white\",\"showland\":true,\"showlakes\":true,\"lakecolor\":\"white\"},\"title\":{\"x\":0.05},\"mapbox\":{\"style\":\"light\"}}},\"xaxis\":{\"anchor\":\"y\",\"domain\":[0.0,1.0],\"scaleanchor\":\"y\",\"constrain\":\"domain\"},\"yaxis\":{\"anchor\":\"x\",\"domain\":[0.0,1.0],\"autorange\":\"reversed\",\"constrain\":\"domain\"},\"coloraxis\":{\"colorscale\":[[0.0,\"#0d0887\"],[0.1111111111111111,\"#46039f\"],[0.2222222222222222,\"#7201a8\"],[0.3333333333333333,\"#9c179e\"],[0.4444444444444444,\"#bd3786\"],[0.5555555555555556,\"#d8576b\"],[0.6666666666666666,\"#ed7953\"],[0.7777777777777778,\"#fb9f3a\"],[0.8888888888888888,\"#fdca26\"],[1.0,\"#f0f921\"]]},\"margin\":{\"t\":60},\"height\":1000,\"width\":1000},                        {\"responsive\": true}                    ).then(function(){\n",
       "                            \n",
       "var gd = document.getElementById('9da73d66-c42b-42f1-ad9a-55a37bf3f559');\n",
       "var x = new MutationObserver(function (mutations, observer) {{\n",
       "        var display = window.getComputedStyle(gd).display;\n",
       "        if (!display || display === 'none') {{\n",
       "            console.log([gd, 'removed!']);\n",
       "            Plotly.purge(gd);\n",
       "            observer.disconnect();\n",
       "        }}\n",
       "}});\n",
       "\n",
       "// Listen for the removal of the full notebook cells\n",
       "var notebookContainer = gd.closest('#notebook-container');\n",
       "if (notebookContainer) {{\n",
       "    x.observe(notebookContainer, {childList: true});\n",
       "}}\n",
       "\n",
       "// Listen for the clearing of the current output cell\n",
       "var outputEl = gd.closest('.output');\n",
       "if (outputEl) {{\n",
       "    x.observe(outputEl, {childList: true});\n",
       "}}\n",
       "\n",
       "                        })                };                });            </script>        </div>"
      ]
     },
     "metadata": {},
     "output_type": "display_data"
    }
   ],
   "source": [
    "# Checking the correlation between features\n",
    "corr = dc.corr()\n",
    "\n",
    "fig = px.imshow(corr,width=1000, height=1000)\n",
    "fig.show()\n"
   ]
  },
  {
   "cell_type": "code",
   "execution_count": 66,
   "id": "cc4439da",
   "metadata": {},
   "outputs": [
    {
     "data": {
      "text/plain": [
       "'0.5.2'"
      ]
     },
     "execution_count": 66,
     "metadata": {},
     "output_type": "execute_result"
    }
   ],
   "source": [
    "import patsy\n",
    "patsy.__version__"
   ]
  },
  {
   "cell_type": "code",
   "execution_count": 67,
   "id": "932d0da2",
   "metadata": {},
   "outputs": [],
   "source": [
    "dc.rename(columns={'InvNet (SUM)':'sales'},inplace=True)"
   ]
  },
  {
   "cell_type": "code",
   "execution_count": 68,
   "id": "9b49310f",
   "metadata": {},
   "outputs": [],
   "source": [
    "import statsmodels.api as sm\n",
    "import statsmodels.formula.api as smf"
   ]
  },
  {
   "cell_type": "code",
   "execution_count": 90,
   "id": "4d35287c",
   "metadata": {},
   "outputs": [],
   "source": [
    "#Change variable name separators to '_'\n",
    "all_columns = [column.replace(\"\", \"\") for column in dc.columns]"
   ]
  },
  {
   "cell_type": "code",
   "execution_count": 91,
   "id": "d9072871",
   "metadata": {},
   "outputs": [],
   "source": [
    "#Effect the change to the dataframe column names\n",
    "dc.columns = all_columns"
   ]
  },
  {
   "cell_type": "code",
   "execution_count": 71,
   "id": "968a5234",
   "metadata": {},
   "outputs": [],
   "source": [
    "all_columns = [column.replace(\"__\", \"_\").replace(\"___\", \"_\") for column in dc.columns]"
   ]
  },
  {
   "cell_type": "code",
   "execution_count": 72,
   "id": "556f9940",
   "metadata": {},
   "outputs": [],
   "source": [
    "all_columns = [column.replace(\"___\", \"_\").replace(\"___\", \"_\") for column in dc.columns]"
   ]
  },
  {
   "cell_type": "code",
   "execution_count": 73,
   "id": "562cf8e1",
   "metadata": {},
   "outputs": [],
   "source": [
    "all_columns = [column.replace(\" \", \"_\").replace(\" \", \"_\") for column in dc.columns]"
   ]
  },
  {
   "cell_type": "code",
   "execution_count": 74,
   "id": "5afc5a3e",
   "metadata": {},
   "outputs": [],
   "source": [
    "all_columns=dc"
   ]
  },
  {
   "cell_type": "code",
   "execution_count": 129,
   "id": "207d4e8b",
   "metadata": {},
   "outputs": [],
   "source": [
    "#dc.columns = all_columns"
   ]
  },
  {
   "cell_type": "code",
   "execution_count": 93,
   "id": "2f866644",
   "metadata": {},
   "outputs": [],
   "source": [
    "#Prepare it for the GLM formula\n",
    "glm_columns = [e for e in all_columns if e not in ['CMemNo', 'Failed']]\n",
    "glm_columns = ' + '.join(map(str, glm_columns))\n"
   ]
  },
  {
   "cell_type": "code",
   "execution_count": 94,
   "id": "bebe25d5",
   "metadata": {},
   "outputs": [
    {
     "data": {
      "text/html": [
       "<div>\n",
       "<style scoped>\n",
       "    .dataframe tbody tr th:only-of-type {\n",
       "        vertical-align: middle;\n",
       "    }\n",
       "\n",
       "    .dataframe tbody tr th {\n",
       "        vertical-align: top;\n",
       "    }\n",
       "\n",
       "    .dataframe thead th {\n",
       "        text-align: right;\n",
       "    }\n",
       "</style>\n",
       "<table border=\"1\" class=\"dataframe\">\n",
       "  <thead>\n",
       "    <tr style=\"text-align: right;\">\n",
       "      <th></th>\n",
       "      <th>Failed</th>\n",
       "      <th>ProductAreaName</th>\n",
       "      <th>sales</th>\n",
       "      <th>MemberType</th>\n",
       "      <th>yearofjoning</th>\n",
       "    </tr>\n",
       "  </thead>\n",
       "  <tbody>\n",
       "    <tr>\n",
       "      <th>0</th>\n",
       "      <td>1</td>\n",
       "      <td>20</td>\n",
       "      <td>60.27</td>\n",
       "      <td>34</td>\n",
       "      <td>2005</td>\n",
       "    </tr>\n",
       "    <tr>\n",
       "      <th>1</th>\n",
       "      <td>1</td>\n",
       "      <td>2</td>\n",
       "      <td>-240.00</td>\n",
       "      <td>16</td>\n",
       "      <td>2015</td>\n",
       "    </tr>\n",
       "    <tr>\n",
       "      <th>2</th>\n",
       "      <td>1</td>\n",
       "      <td>2</td>\n",
       "      <td>568.00</td>\n",
       "      <td>0</td>\n",
       "      <td>2006</td>\n",
       "    </tr>\n",
       "    <tr>\n",
       "      <th>3</th>\n",
       "      <td>1</td>\n",
       "      <td>3</td>\n",
       "      <td>19.20</td>\n",
       "      <td>16</td>\n",
       "      <td>1986</td>\n",
       "    </tr>\n",
       "    <tr>\n",
       "      <th>4</th>\n",
       "      <td>1</td>\n",
       "      <td>2</td>\n",
       "      <td>286.20</td>\n",
       "      <td>16</td>\n",
       "      <td>2006</td>\n",
       "    </tr>\n",
       "    <tr>\n",
       "      <th>...</th>\n",
       "      <td>...</td>\n",
       "      <td>...</td>\n",
       "      <td>...</td>\n",
       "      <td>...</td>\n",
       "      <td>...</td>\n",
       "    </tr>\n",
       "    <tr>\n",
       "      <th>149995</th>\n",
       "      <td>1</td>\n",
       "      <td>9</td>\n",
       "      <td>111.00</td>\n",
       "      <td>8</td>\n",
       "      <td>1992</td>\n",
       "    </tr>\n",
       "    <tr>\n",
       "      <th>149996</th>\n",
       "      <td>1</td>\n",
       "      <td>10</td>\n",
       "      <td>886.75</td>\n",
       "      <td>16</td>\n",
       "      <td>2010</td>\n",
       "    </tr>\n",
       "    <tr>\n",
       "      <th>149997</th>\n",
       "      <td>1</td>\n",
       "      <td>2</td>\n",
       "      <td>685.00</td>\n",
       "      <td>16</td>\n",
       "      <td>2006</td>\n",
       "    </tr>\n",
       "    <tr>\n",
       "      <th>149998</th>\n",
       "      <td>1</td>\n",
       "      <td>13</td>\n",
       "      <td>47.27</td>\n",
       "      <td>16</td>\n",
       "      <td>1990</td>\n",
       "    </tr>\n",
       "    <tr>\n",
       "      <th>149999</th>\n",
       "      <td>1</td>\n",
       "      <td>13</td>\n",
       "      <td>35.70</td>\n",
       "      <td>16</td>\n",
       "      <td>1988</td>\n",
       "    </tr>\n",
       "  </tbody>\n",
       "</table>\n",
       "<p>150000 rows × 5 columns</p>\n",
       "</div>"
      ],
      "text/plain": [
       "        Failed  ProductAreaName   sales  MemberType  yearofjoning\n",
       "0            1               20   60.27          34          2005\n",
       "1            1                2 -240.00          16          2015\n",
       "2            1                2  568.00           0          2006\n",
       "3            1                3   19.20          16          1986\n",
       "4            1                2  286.20          16          2006\n",
       "...        ...              ...     ...         ...           ...\n",
       "149995       1                9  111.00           8          1992\n",
       "149996       1               10  886.75          16          2010\n",
       "149997       1                2  685.00          16          2006\n",
       "149998       1               13   47.27          16          1990\n",
       "149999       1               13   35.70          16          1988\n",
       "\n",
       "[150000 rows x 5 columns]"
      ]
     },
     "execution_count": 94,
     "metadata": {},
     "output_type": "execute_result"
    }
   ],
   "source": [
    "dc"
   ]
  },
  {
   "cell_type": "code",
   "execution_count": 79,
   "id": "d808f187",
   "metadata": {},
   "outputs": [],
   "source": [
    "dc = dc.rename({'Member Type': 'MemberType', 'year of joning': 'yearofjoning'}, axis=1)"
   ]
  },
  {
   "cell_type": "code",
   "execution_count": 81,
   "id": "7eac8238",
   "metadata": {},
   "outputs": [],
   "source": [
    "dc.drop(['month of joining','day of joining'],axis=1,inplace=True)"
   ]
  },
  {
   "cell_type": "code",
   "execution_count": 95,
   "id": "fefedf07",
   "metadata": {},
   "outputs": [
    {
     "data": {
      "text/plain": [
       "'ProductAreaName + sales + MemberType + yearofjoning'"
      ]
     },
     "execution_count": 95,
     "metadata": {},
     "output_type": "execute_result"
    }
   ],
   "source": [
    "glm_columns"
   ]
  },
  {
   "cell_type": "code",
   "execution_count": 96,
   "id": "4686a628",
   "metadata": {},
   "outputs": [
    {
     "name": "stdout",
     "output_type": "stream",
     "text": [
      "                 Generalized Linear Model Regression Results                  \n",
      "==============================================================================\n",
      "Dep. Variable:                 Failed   No. Observations:               149999\n",
      "Model:                            GLM   Df Residuals:                   149994\n",
      "Model Family:                Binomial   Df Model:                            4\n",
      "Link Function:                  logit   Scale:                          1.0000\n",
      "Method:                          IRLS   Log-Likelihood:                -3842.1\n",
      "Date:                Tue, 30 Aug 2022   Deviance:                       7684.2\n",
      "Time:                        09:27:29   Pearson chi2:                 1.48e+05\n",
      "No. Iterations:                     9                                         \n",
      "Covariance Type:            nonrobust                                         \n",
      "===================================================================================\n",
      "                      coef    std err          z      P>|z|      [0.025      0.975]\n",
      "-----------------------------------------------------------------------------------\n",
      "Intercept          41.8801      7.646      5.477      0.000      26.894      56.867\n",
      "ProductAreaName     0.0246      0.007      3.752      0.000       0.012       0.037\n",
      "sales               0.0001   3.91e-05      2.687      0.007    2.84e-05       0.000\n",
      "MemberType          0.0337      0.005      6.408      0.000       0.023       0.044\n",
      "yearofjoning       -0.0185      0.004     -4.861      0.000      -0.026      -0.011\n",
      "===================================================================================\n"
     ]
    }
   ],
   "source": [
    "#Fiting it to the Generalized Linear Model\n",
    "glm_model = smf.glm(formula=f'Failed ~ {glm_columns}', data=dc, family=sm.families.Binomial())\n",
    "res = glm_model.fit()\n",
    "print(res.summary())\n"
   ]
  },
  {
   "cell_type": "code",
   "execution_count": 97,
   "id": "fb4a128c",
   "metadata": {},
   "outputs": [],
   "source": [
    "import numpy as np"
   ]
  },
  {
   "cell_type": "code",
   "execution_count": 98,
   "id": "7bf78148",
   "metadata": {
    "scrolled": true
   },
   "outputs": [
    {
     "data": {
      "text/plain": [
       "Intercept          1.542816e+18\n",
       "ProductAreaName    1.024871e+00\n",
       "sales              1.000105e+00\n",
       "MemberType         1.034306e+00\n",
       "yearofjoning       9.816546e-01\n",
       "dtype: float64"
      ]
     },
     "execution_count": 98,
     "metadata": {},
     "output_type": "execute_result"
    }
   ],
   "source": [
    "np.exp(res.params)"
   ]
  },
  {
   "cell_type": "code",
   "execution_count": 99,
   "id": "1f366afd",
   "metadata": {},
   "outputs": [
    {
     "data": {
      "text/html": [
       "<div>\n",
       "<style scoped>\n",
       "    .dataframe tbody tr th:only-of-type {\n",
       "        vertical-align: middle;\n",
       "    }\n",
       "\n",
       "    .dataframe tbody tr th {\n",
       "        vertical-align: top;\n",
       "    }\n",
       "\n",
       "    .dataframe thead th {\n",
       "        text-align: right;\n",
       "    }\n",
       "</style>\n",
       "<table border=\"1\" class=\"dataframe\">\n",
       "  <thead>\n",
       "    <tr style=\"text-align: right;\">\n",
       "      <th></th>\n",
       "      <th>Failed</th>\n",
       "      <th>ProductAreaName</th>\n",
       "      <th>sales</th>\n",
       "      <th>MemberType</th>\n",
       "      <th>yearofjoning</th>\n",
       "    </tr>\n",
       "  </thead>\n",
       "  <tbody>\n",
       "    <tr>\n",
       "      <th>0</th>\n",
       "      <td>1</td>\n",
       "      <td>20</td>\n",
       "      <td>60.27</td>\n",
       "      <td>34</td>\n",
       "      <td>2005</td>\n",
       "    </tr>\n",
       "    <tr>\n",
       "      <th>1</th>\n",
       "      <td>1</td>\n",
       "      <td>2</td>\n",
       "      <td>-240.00</td>\n",
       "      <td>16</td>\n",
       "      <td>2015</td>\n",
       "    </tr>\n",
       "    <tr>\n",
       "      <th>2</th>\n",
       "      <td>1</td>\n",
       "      <td>2</td>\n",
       "      <td>568.00</td>\n",
       "      <td>0</td>\n",
       "      <td>2006</td>\n",
       "    </tr>\n",
       "    <tr>\n",
       "      <th>3</th>\n",
       "      <td>1</td>\n",
       "      <td>3</td>\n",
       "      <td>19.20</td>\n",
       "      <td>16</td>\n",
       "      <td>1986</td>\n",
       "    </tr>\n",
       "    <tr>\n",
       "      <th>4</th>\n",
       "      <td>1</td>\n",
       "      <td>2</td>\n",
       "      <td>286.20</td>\n",
       "      <td>16</td>\n",
       "      <td>2006</td>\n",
       "    </tr>\n",
       "  </tbody>\n",
       "</table>\n",
       "</div>"
      ],
      "text/plain": [
       "   Failed  ProductAreaName   sales  MemberType  yearofjoning\n",
       "0       1               20   60.27          34          2005\n",
       "1       1                2 -240.00          16          2015\n",
       "2       1                2  568.00           0          2006\n",
       "3       1                3   19.20          16          1986\n",
       "4       1                2  286.20          16          2006"
      ]
     },
     "execution_count": 99,
     "metadata": {},
     "output_type": "execute_result"
    }
   ],
   "source": [
    "dc.head()"
   ]
  },
  {
   "cell_type": "code",
   "execution_count": 100,
   "id": "5769eff0",
   "metadata": {
    "scrolled": true
   },
   "outputs": [],
   "source": [
    "#feature scaling\n",
    "from sklearn.preprocessing import MinMaxScaler\n",
    "sc = MinMaxScaler()\n",
    "dc['sales'] = sc.fit_transform(dc[['sales']])\n",
    "#the above code explains the feature scaling of the variable"
   ]
  },
  {
   "cell_type": "code",
   "execution_count": 101,
   "id": "cb6c04d2",
   "metadata": {},
   "outputs": [],
   "source": [
    "# Import Machine learning algorithms\n",
    "from sklearn.linear_model import LogisticRegression\n",
    "from sklearn.svm import SVC\n",
    "from sklearn.ensemble import RandomForestClassifier\n",
    "from sklearn.tree import DecisionTreeClassifier\n",
    "from sklearn.naive_bayes import GaussianNB\n",
    "#the code above explains the importing necessary libraries"
   ]
  },
  {
   "cell_type": "code",
   "execution_count": 102,
   "id": "4efc6655",
   "metadata": {},
   "outputs": [],
   "source": [
    "#Import metric for performance evaluation\n",
    "from sklearn.metrics import accuracy_score, precision_score, recall_score, f1_score"
   ]
  },
  {
   "cell_type": "code",
   "execution_count": 103,
   "id": "e0422153",
   "metadata": {},
   "outputs": [],
   "source": [
    "#Split data into train and test sets\n",
    "from sklearn.model_selection import train_test_split\n",
    "X = dc.drop('Failed', axis=1)\n",
    "y = dc['Failed']\n",
    "X_train, X_test, y_train, y_test = train_test_split(X, y, test_size=0.3, random_state=50)  "
   ]
  },
  {
   "cell_type": "code",
   "execution_count": 107,
   "id": "a930832f",
   "metadata": {},
   "outputs": [
    {
     "data": {
      "text/plain": [
       "Failed             0\n",
       "ProductAreaName    0\n",
       "sales              0\n",
       "MemberType         0\n",
       "yearofjoning       0\n",
       "dtype: int64"
      ]
     },
     "execution_count": 107,
     "metadata": {},
     "output_type": "execute_result"
    }
   ],
   "source": [
    "dc.isnull().sum()"
   ]
  },
  {
   "cell_type": "code",
   "execution_count": 105,
   "id": "bbca0885",
   "metadata": {},
   "outputs": [],
   "source": [
    "dc=dc.fillna(0)"
   ]
  },
  {
   "cell_type": "code",
   "execution_count": 116,
   "id": "b90d4e57",
   "metadata": {},
   "outputs": [],
   "source": [
    "X_test=X_test.fillna(0)"
   ]
  },
  {
   "cell_type": "code",
   "execution_count": 115,
   "id": "bc5661a4",
   "metadata": {},
   "outputs": [
    {
     "data": {
      "text/plain": [
       "ProductAreaName    0\n",
       "sales              0\n",
       "MemberType         0\n",
       "yearofjoning       0\n",
       "dtype: int64"
      ]
     },
     "execution_count": 115,
     "metadata": {},
     "output_type": "execute_result"
    }
   ],
   "source": [
    "X_train.isnull().sum()"
   ]
  },
  {
   "cell_type": "code",
   "execution_count": 117,
   "id": "b50219d1",
   "metadata": {
    "scrolled": true
   },
   "outputs": [
    {
     "data": {
      "text/plain": [
       "ProductAreaName    0\n",
       "sales              0\n",
       "MemberType         0\n",
       "yearofjoning       0\n",
       "dtype: int64"
      ]
     },
     "execution_count": 117,
     "metadata": {},
     "output_type": "execute_result"
    }
   ],
   "source": [
    "X_test.isnull().sum()"
   ]
  },
  {
   "cell_type": "code",
   "execution_count": 118,
   "id": "8dcc0c69",
   "metadata": {},
   "outputs": [
    {
     "name": "stdout",
     "output_type": "stream",
     "text": [
      "Logistic Regression\n",
      "accuracy:  0.9962888888888889\n",
      "precision:  0.9962888888888889\n",
      "recall:  1.0\n",
      "f1_score:  0.994436782820468\n"
     ]
    }
   ],
   "source": [
    "#Defining the modelling function\n",
    "def modeling(alg, alg_name, params={}):\n",
    "    model = alg(**params) #Instantiating the algorithm class and unpacking parameters if any\n",
    "    model.fit(X_train, y_train)\n",
    "    y_pred = model.predict(X_test)\n",
    "    \n",
    "    #Performance evaluation\n",
    "    def print_scores(alg, y_true, y_pred):\n",
    "        print(alg_name)\n",
    "        acc_score = accuracy_score(y_true, y_pred)\n",
    "        print(\"accuracy: \",acc_score)\n",
    "        pre_score = precision_score(y_true, y_pred)\n",
    "        print(\"precision: \",pre_score)\n",
    "        rec_score = recall_score(y_true, y_pred)                            \n",
    "        print(\"recall: \",rec_score)\n",
    "        f_score = f1_score(y_true, y_pred, average='weighted')\n",
    "        print(\"f1_score: \",f_score)\n",
    "        # the above code explains the modelling function\n",
    "\n",
    "    print_scores(alg, y_test, y_pred)\n",
    "    return model\n",
    "#this function allows fitting as many algorithms \n",
    "# Running logistic regression model\n",
    "log_model = modeling(LogisticRegression, 'Logistic Regression')\n",
    "#this has overfitting issue which has to resolved so that we can get a accurate predicion and overfitting issues"
   ]
  },
  {
   "cell_type": "code",
   "execution_count": 152,
   "id": "56873802",
   "metadata": {},
   "outputs": [],
   "source": [
    "vX_test.to_csv('test.csv')"
   ]
  },
  {
   "cell_type": "code",
   "execution_count": 123,
   "id": "2b6d3003",
   "metadata": {},
   "outputs": [
    {
     "data": {
      "text/plain": [
       "ProductAreaName    0\n",
       "sales              0\n",
       "MemberType         0\n",
       "yearofjoning       0\n",
       "dtype: int64"
      ]
     },
     "execution_count": 123,
     "metadata": {},
     "output_type": "execute_result"
    }
   ],
   "source": [
    "X.isnull().sum()"
   ]
  },
  {
   "cell_type": "code",
   "execution_count": 122,
   "id": "1acb5303",
   "metadata": {},
   "outputs": [],
   "source": [
    "X=X.fillna(0)"
   ]
  },
  {
   "cell_type": "code",
   "execution_count": 124,
   "id": "6c4562a0",
   "metadata": {},
   "outputs": [
    {
     "data": {
      "text/plain": [
       "RFECV(cv=StratifiedKFold(n_splits=10, random_state=50, shuffle=True),\n",
       "      estimator=LogisticRegression(), scoring='accuracy')"
      ]
     },
     "execution_count": 124,
     "metadata": {},
     "output_type": "execute_result"
    }
   ],
   "source": [
    "# Feature selection to improve model building\n",
    "from sklearn.feature_selection import RFECV\n",
    "from sklearn.model_selection import StratifiedKFold\n",
    "log = LogisticRegression()\n",
    "rfecv = RFECV(estimator=log, cv=StratifiedKFold(10, random_state=50, shuffle=True), scoring=\"accuracy\")\n",
    "rfecv.fit(X, y)"
   ]
  },
  {
   "cell_type": "code",
   "execution_count": 125,
   "id": "e6df79a9",
   "metadata": {},
   "outputs": [
    {
     "data": {
      "text/plain": [
       "['modelsyy.sav']"
      ]
     },
     "execution_count": 125,
     "metadata": {},
     "output_type": "execute_result"
    }
   ],
   "source": [
    "#Saving best model \n",
    "import joblib\n",
    "#Sava the model to disk\n",
    "filename = 'modelsyy.sav'\n",
    "joblib.dump(log_model, filename)"
   ]
  },
  {
   "cell_type": "code",
   "execution_count": 126,
   "id": "df93abdc",
   "metadata": {},
   "outputs": [],
   "source": [
    "import pickle\n",
    "# open a file, where you ant to store the data\n",
    "file = open('modelsyy.pkl', 'wb')\n",
    "\n",
    "# dump information to that file\n",
    "pickle.dump(log_model , file)"
   ]
  },
  {
   "cell_type": "code",
   "execution_count": 127,
   "id": "863abfbe",
   "metadata": {
    "scrolled": false
   },
   "outputs": [
    {
     "data": {
      "text/plain": [
       "Index(['Failed', 'ProductAreaName', 'sales', 'MemberType', 'yearofjoning'], dtype='object')"
      ]
     },
     "execution_count": 127,
     "metadata": {},
     "output_type": "execute_result"
    }
   ],
   "source": [
    "dc.columns"
   ]
  },
  {
   "cell_type": "code",
   "execution_count": 128,
   "id": "5a9bb30a",
   "metadata": {
    "scrolled": false
   },
   "outputs": [
    {
     "data": {
      "text/html": [
       "<div>\n",
       "<style scoped>\n",
       "    .dataframe tbody tr th:only-of-type {\n",
       "        vertical-align: middle;\n",
       "    }\n",
       "\n",
       "    .dataframe tbody tr th {\n",
       "        vertical-align: top;\n",
       "    }\n",
       "\n",
       "    .dataframe thead th {\n",
       "        text-align: right;\n",
       "    }\n",
       "</style>\n",
       "<table border=\"1\" class=\"dataframe\">\n",
       "  <thead>\n",
       "    <tr style=\"text-align: right;\">\n",
       "      <th></th>\n",
       "      <th>Failed</th>\n",
       "      <th>ProductAreaName</th>\n",
       "      <th>sales</th>\n",
       "      <th>MemberType</th>\n",
       "      <th>yearofjoning</th>\n",
       "    </tr>\n",
       "  </thead>\n",
       "  <tbody>\n",
       "    <tr>\n",
       "      <th>0</th>\n",
       "      <td>1</td>\n",
       "      <td>20</td>\n",
       "      <td>0.308222</td>\n",
       "      <td>34</td>\n",
       "      <td>2005</td>\n",
       "    </tr>\n",
       "    <tr>\n",
       "      <th>1</th>\n",
       "      <td>1</td>\n",
       "      <td>2</td>\n",
       "      <td>0.305421</td>\n",
       "      <td>16</td>\n",
       "      <td>2015</td>\n",
       "    </tr>\n",
       "    <tr>\n",
       "      <th>2</th>\n",
       "      <td>1</td>\n",
       "      <td>2</td>\n",
       "      <td>0.312957</td>\n",
       "      <td>0</td>\n",
       "      <td>2006</td>\n",
       "    </tr>\n",
       "    <tr>\n",
       "      <th>3</th>\n",
       "      <td>1</td>\n",
       "      <td>3</td>\n",
       "      <td>0.307839</td>\n",
       "      <td>16</td>\n",
       "      <td>1986</td>\n",
       "    </tr>\n",
       "    <tr>\n",
       "      <th>4</th>\n",
       "      <td>1</td>\n",
       "      <td>2</td>\n",
       "      <td>0.310329</td>\n",
       "      <td>16</td>\n",
       "      <td>2006</td>\n",
       "    </tr>\n",
       "  </tbody>\n",
       "</table>\n",
       "</div>"
      ],
      "text/plain": [
       "   Failed  ProductAreaName     sales  MemberType  yearofjoning\n",
       "0       1               20  0.308222          34          2005\n",
       "1       1                2  0.305421          16          2015\n",
       "2       1                2  0.312957           0          2006\n",
       "3       1                3  0.307839          16          1986\n",
       "4       1                2  0.310329          16          2006"
      ]
     },
     "execution_count": 128,
     "metadata": {},
     "output_type": "execute_result"
    }
   ],
   "source": [
    "dc.head()"
   ]
  },
  {
   "cell_type": "code",
   "execution_count": null,
   "id": "bd257b73",
   "metadata": {},
   "outputs": [],
   "source": []
  }
 ],
 "metadata": {
  "kernelspec": {
   "display_name": "Python 3 (ipykernel)",
   "language": "python",
   "name": "python3"
  },
  "language_info": {
   "codemirror_mode": {
    "name": "ipython",
    "version": 3
   },
   "file_extension": ".py",
   "mimetype": "text/x-python",
   "name": "python",
   "nbconvert_exporter": "python",
   "pygments_lexer": "ipython3",
   "version": "3.9.7"
  }
 },
 "nbformat": 4,
 "nbformat_minor": 5
}
